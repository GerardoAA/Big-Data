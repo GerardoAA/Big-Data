{
 "cells": [
  {
   "cell_type": "markdown",
   "metadata": {},
   "source": [
    "# Proyección de ventas en unidades\n",
    "## Gerardo Alvarado A.\n",
    "### El objetivo del proyecto es la proyección de las ventas en unidades de cada uno de los productos en un mes seleccionado.\n",
    "\n",
    "### Se realizará una exploración de los datos para identificar tendencias, estacionalidades, meses de mayor venta, relación entre las diferentes variables proporcionadas, para así, poder realizar la recomendación de acuerdo al objetivo del proyecto. \n"
   ]
  },
  {
   "cell_type": "code",
   "execution_count": 257,
   "metadata": {},
   "outputs": [],
   "source": [
    "#Importación de las librerías requeridas\n",
    "\n",
    "#numpy, pandas, scipy, math, matplotlib\n",
    "import numpy as np\n",
    "import pandas as pd\n",
    "import scipy\n",
    "from math import sqrt\n",
    "import matplotlib.pyplot as plt\n",
    "import warnings; warnings.simplefilter('ignore')\n",
    "from statsmodels.tsa.arima_model import ARIMA\n",
    "import dateutil.parser\n",
    "from matplotlib import cbook, dates\n",
    "from matplotlib.ticker import Formatter\n",
    "import seaborn as sns\n",
    "from pandas.plotting import scatter_matrix\n",
    "from matplotlib import pyplot\n",
    "\n",
    "\n",
    "#estimators\n",
    "from sklearn.ensemble import RandomForestRegressor\n",
    "from sklearn.linear_model import LinearRegression\n",
    "from sklearn.svm import SVR\n",
    "from sklearn import linear_model\n",
    "\n",
    "#model metrics\n",
    "from sklearn.metrics import mean_squared_error\n",
    "from sklearn.metrics import r2_score\n",
    "from sklearn.model_selection import cross_val_score\n",
    "from sklearn.metrics import classification_report, confusion_matrix\n",
    "\n",
    "#cross validation\n",
    "from sklearn.model_selection import train_test_split"
   ]
  },
  {
   "cell_type": "markdown",
   "metadata": {},
   "source": [
    "### Carga de los datos\n",
    "\n",
    "#### La información del set de datos corresponde a las ventas de la categoría de Atún en Centroamérica\n",
    "\n",
    "#### El set de datos contiene la información de ventas de los productos a analizar del 2019 de manera mensual en tres tipos de \n",
    "#### variables: unidades, valor y precios\n",
    "\n",
    "#### Adicionalmente contiene información referente a las características de cada producto y los lugares en los que se vendió cada uno de ellos\n"
   ]
  },
  {
   "cell_type": "code",
   "execution_count": 258,
   "metadata": {},
   "outputs": [],
   "source": [
    "#Cargar el archivo de ventas\n",
    "\n",
    "rawData = pd.read_csv('Ventas Productos Mensuales.csv', header=0)"
   ]
  },
  {
   "cell_type": "code",
   "execution_count": 259,
   "metadata": {},
   "outputs": [
    {
     "name": "stdout",
     "output_type": "stream",
     "text": [
      "<class 'pandas.core.frame.DataFrame'>\n",
      "RangeIndex: 465 entries, 0 to 464\n",
      "Data columns (total 44 columns):\n",
      "CodPais      465 non-null int64\n",
      "CodCad       465 non-null int64\n",
      "CodProd      465 non-null int64\n",
      "CodMar       465 non-null object\n",
      "UE           465 non-null int64\n",
      "Contenido    465 non-null int64\n",
      "CodSub       465 non-null object\n",
      "CodSeg       465 non-null object\n",
      "V201901      465 non-null float64\n",
      "V201902      465 non-null float64\n",
      "V201903      465 non-null float64\n",
      "V201904      465 non-null float64\n",
      "V201905      465 non-null float64\n",
      "V201906      465 non-null float64\n",
      "V201907      465 non-null float64\n",
      "V201908      465 non-null float64\n",
      "V201909      465 non-null float64\n",
      "V201910      465 non-null float64\n",
      "V201911      465 non-null float64\n",
      "V201912      465 non-null float64\n",
      "P201901      465 non-null float64\n",
      "P201902      465 non-null float64\n",
      "P201903      465 non-null float64\n",
      "P201904      465 non-null float64\n",
      "P201905      465 non-null float64\n",
      "P201906      465 non-null float64\n",
      "P201907      465 non-null float64\n",
      "P201908      465 non-null float64\n",
      "P201909      465 non-null float64\n",
      "P201910      465 non-null float64\n",
      "P201911      465 non-null float64\n",
      "P201912      465 non-null float64\n",
      "U201901      465 non-null int64\n",
      "U201902      465 non-null int64\n",
      "U201903      465 non-null int64\n",
      "U201904      465 non-null int64\n",
      "U201905      465 non-null int64\n",
      "U201906      465 non-null int64\n",
      "U201907      465 non-null int64\n",
      "U201908      465 non-null int64\n",
      "U201909      465 non-null int64\n",
      "U201910      465 non-null int64\n",
      "U201911      465 non-null int64\n",
      "U201912      465 non-null int64\n",
      "dtypes: float64(24), int64(17), object(3)\n",
      "memory usage: 160.0+ KB\n"
     ]
    }
   ],
   "source": [
    "# Validación de la estructura de los datos\n",
    "\n",
    "rawData.info()"
   ]
  },
  {
   "cell_type": "markdown",
   "metadata": {},
   "source": [
    "### Visualización de los valores de los datos para identificar las características"
   ]
  },
  {
   "cell_type": "code",
   "execution_count": 260,
   "metadata": {
    "scrolled": false
   },
   "outputs": [
    {
     "data": {
      "text/html": [
       "<div>\n",
       "<style scoped>\n",
       "    .dataframe tbody tr th:only-of-type {\n",
       "        vertical-align: middle;\n",
       "    }\n",
       "\n",
       "    .dataframe tbody tr th {\n",
       "        vertical-align: top;\n",
       "    }\n",
       "\n",
       "    .dataframe thead th {\n",
       "        text-align: right;\n",
       "    }\n",
       "</style>\n",
       "<table border=\"1\" class=\"dataframe\">\n",
       "  <thead>\n",
       "    <tr style=\"text-align: right;\">\n",
       "      <th></th>\n",
       "      <th>CodPais</th>\n",
       "      <th>CodCad</th>\n",
       "      <th>CodProd</th>\n",
       "      <th>CodMar</th>\n",
       "      <th>UE</th>\n",
       "      <th>Contenido</th>\n",
       "      <th>CodSub</th>\n",
       "      <th>CodSeg</th>\n",
       "      <th>V201901</th>\n",
       "      <th>V201902</th>\n",
       "      <th>...</th>\n",
       "      <th>U201903</th>\n",
       "      <th>U201904</th>\n",
       "      <th>U201905</th>\n",
       "      <th>U201906</th>\n",
       "      <th>U201907</th>\n",
       "      <th>U201908</th>\n",
       "      <th>U201909</th>\n",
       "      <th>U201910</th>\n",
       "      <th>U201911</th>\n",
       "      <th>U201912</th>\n",
       "    </tr>\n",
       "  </thead>\n",
       "  <tbody>\n",
       "    <tr>\n",
       "      <td>0</td>\n",
       "      <td>1</td>\n",
       "      <td>2</td>\n",
       "      <td>223</td>\n",
       "      <td>G</td>\n",
       "      <td>48</td>\n",
       "      <td>140</td>\n",
       "      <td>V</td>\n",
       "      <td>S</td>\n",
       "      <td>116585720.0</td>\n",
       "      <td>162345360.0</td>\n",
       "      <td>...</td>\n",
       "      <td>340172</td>\n",
       "      <td>292219</td>\n",
       "      <td>296435</td>\n",
       "      <td>309352</td>\n",
       "      <td>344646</td>\n",
       "      <td>370523</td>\n",
       "      <td>362436</td>\n",
       "      <td>350898</td>\n",
       "      <td>326085</td>\n",
       "      <td>358173</td>\n",
       "    </tr>\n",
       "    <tr>\n",
       "      <td>1</td>\n",
       "      <td>1</td>\n",
       "      <td>2</td>\n",
       "      <td>39</td>\n",
       "      <td>F</td>\n",
       "      <td>24</td>\n",
       "      <td>420</td>\n",
       "      <td>T</td>\n",
       "      <td>S</td>\n",
       "      <td>71181750.0</td>\n",
       "      <td>68087500.0</td>\n",
       "      <td>...</td>\n",
       "      <td>24488</td>\n",
       "      <td>21167</td>\n",
       "      <td>11333</td>\n",
       "      <td>12682</td>\n",
       "      <td>30114</td>\n",
       "      <td>27501</td>\n",
       "      <td>30183</td>\n",
       "      <td>17129</td>\n",
       "      <td>8888</td>\n",
       "      <td>6582</td>\n",
       "    </tr>\n",
       "    <tr>\n",
       "      <td>2</td>\n",
       "      <td>1</td>\n",
       "      <td>2</td>\n",
       "      <td>139</td>\n",
       "      <td>G</td>\n",
       "      <td>12</td>\n",
       "      <td>560</td>\n",
       "      <td>T</td>\n",
       "      <td>S</td>\n",
       "      <td>25470.0</td>\n",
       "      <td>25474935.0</td>\n",
       "      <td>...</td>\n",
       "      <td>42318</td>\n",
       "      <td>57956</td>\n",
       "      <td>37233</td>\n",
       "      <td>38965</td>\n",
       "      <td>42224</td>\n",
       "      <td>52175</td>\n",
       "      <td>43608</td>\n",
       "      <td>3725</td>\n",
       "      <td>331</td>\n",
       "      <td>7</td>\n",
       "    </tr>\n",
       "    <tr>\n",
       "      <td>3</td>\n",
       "      <td>1</td>\n",
       "      <td>1</td>\n",
       "      <td>39</td>\n",
       "      <td>F</td>\n",
       "      <td>24</td>\n",
       "      <td>420</td>\n",
       "      <td>T</td>\n",
       "      <td>S</td>\n",
       "      <td>16254000.0</td>\n",
       "      <td>40261000.0</td>\n",
       "      <td>...</td>\n",
       "      <td>24621</td>\n",
       "      <td>29992</td>\n",
       "      <td>22831</td>\n",
       "      <td>19461</td>\n",
       "      <td>27298</td>\n",
       "      <td>23428</td>\n",
       "      <td>19920</td>\n",
       "      <td>10077</td>\n",
       "      <td>3747</td>\n",
       "      <td>4991</td>\n",
       "    </tr>\n",
       "    <tr>\n",
       "      <td>4</td>\n",
       "      <td>1</td>\n",
       "      <td>2</td>\n",
       "      <td>140</td>\n",
       "      <td>G</td>\n",
       "      <td>8</td>\n",
       "      <td>140</td>\n",
       "      <td>T</td>\n",
       "      <td>S</td>\n",
       "      <td>2550.0</td>\n",
       "      <td>6471950.0</td>\n",
       "      <td>...</td>\n",
       "      <td>13767</td>\n",
       "      <td>25899</td>\n",
       "      <td>21681</td>\n",
       "      <td>20971</td>\n",
       "      <td>17451</td>\n",
       "      <td>18004</td>\n",
       "      <td>21023</td>\n",
       "      <td>26961</td>\n",
       "      <td>6111</td>\n",
       "      <td>41</td>\n",
       "    </tr>\n",
       "  </tbody>\n",
       "</table>\n",
       "<p>5 rows × 44 columns</p>\n",
       "</div>"
      ],
      "text/plain": [
       "   CodPais  CodCad  CodProd CodMar  UE  Contenido CodSub CodSeg      V201901  \\\n",
       "0        1       2      223      G  48        140      V      S  116585720.0   \n",
       "1        1       2       39      F  24        420      T      S   71181750.0   \n",
       "2        1       2      139      G  12        560      T      S      25470.0   \n",
       "3        1       1       39      F  24        420      T      S   16254000.0   \n",
       "4        1       2      140      G   8        140      T      S       2550.0   \n",
       "\n",
       "       V201902  ...  U201903  U201904  U201905  U201906  U201907  U201908  \\\n",
       "0  162345360.0  ...   340172   292219   296435   309352   344646   370523   \n",
       "1   68087500.0  ...    24488    21167    11333    12682    30114    27501   \n",
       "2   25474935.0  ...    42318    57956    37233    38965    42224    52175   \n",
       "3   40261000.0  ...    24621    29992    22831    19461    27298    23428   \n",
       "4    6471950.0  ...    13767    25899    21681    20971    17451    18004   \n",
       "\n",
       "   U201909  U201910  U201911  U201912  \n",
       "0   362436   350898   326085   358173  \n",
       "1    30183    17129     8888     6582  \n",
       "2    43608     3725      331        7  \n",
       "3    19920    10077     3747     4991  \n",
       "4    21023    26961     6111       41  \n",
       "\n",
       "[5 rows x 44 columns]"
      ]
     },
     "execution_count": 260,
     "metadata": {},
     "output_type": "execute_result"
    }
   ],
   "source": [
    "# Visualización de los datos acumulados\n",
    "\n",
    "rawData.head()"
   ]
  },
  {
   "cell_type": "markdown",
   "metadata": {},
   "source": [
    "## Exploración de los datos"
   ]
  },
  {
   "cell_type": "markdown",
   "metadata": {},
   "source": [
    "### Revisión de los contenidos de las variables y los niveles de concentración de información en cada variable con el objetivo de identificar patrones y entender la información, para posteriormente desarrollar el modelo que más se ajusta a las caracteríscas de la información y el objetivo del proyecto"
   ]
  },
  {
   "cell_type": "code",
   "execution_count": 261,
   "metadata": {
    "scrolled": true
   },
   "outputs": [
    {
     "data": {
      "image/png": "[encoded data removed]",
      "text/plain": [
       "<Figure size 432x288 with 1 Axes>"
      ]
     },
     "metadata": {
      "needs_background": "light"
     },
     "output_type": "display_data"
    }
   ],
   "source": [
    "# Revisión de la variable CodPais - Hace referencia al país\n",
    "plt.hist(rawData['CodPais'])\n",
    "plt.show()"
   ]
  },
  {
   "cell_type": "markdown",
   "metadata": {},
   "source": [
    "#### En los datos se puede identificar que el país que presenta la mayor cantidad de ventas es el país con código = 1, mientras que los restantes países no tienen una representatividad alto"
   ]
  },
  {
   "cell_type": "code",
   "execution_count": 262,
   "metadata": {
    "scrolled": true
   },
   "outputs": [
    {
     "data": {
      "image/png": "[encoded data removed]",
      "text/plain": [
       "<Figure size 432x288 with 1 Axes>"
      ]
     },
     "metadata": {
      "needs_background": "light"
     },
     "output_type": "display_data"
    }
   ],
   "source": [
    "# Revisión de la variable CodCad - Hace referencia al tipo de tienda donde se vendió el producto\n",
    "plt.hist(rawData['CodCad'])\n",
    "plt.show()"
   ]
  },
  {
   "cell_type": "markdown",
   "metadata": {},
   "source": [
    "#### En cuanto a las ventas por cadena, la distribución de las ventas muestra que los formatos con código = 2 son los que tienen una menor representatividad en las ventas "
   ]
  },
  {
   "cell_type": "code",
   "execution_count": 263,
   "metadata": {
    "scrolled": true
   },
   "outputs": [
    {
     "data": {
      "image/png": "[encoded data removed]",
      "text/plain": [
       "<Figure size 432x288 with 1 Axes>"
      ]
     },
     "metadata": {
      "needs_background": "light"
     },
     "output_type": "display_data"
    }
   ],
   "source": [
    "# Revisión de la variable CodProd - Hace referencia al producto \n",
    "plt.plot(rawData['CodProd'])\n",
    "plt.show()"
   ]
  },
  {
   "cell_type": "code",
   "execution_count": 264,
   "metadata": {
    "scrolled": false
   },
   "outputs": [
    {
     "data": {
      "image/png": "[encoded data removed]",
      "text/plain": [
       "<Figure size 432x288 with 1 Axes>"
      ]
     },
     "metadata": {
      "needs_background": "light"
     },
     "output_type": "display_data"
    }
   ],
   "source": [
    "# Revisión de la variable CodMar - Hace referencia a la marca del producto\n",
    "plt.hist(rawData['CodMar'])\n",
    "plt.show()"
   ]
  },
  {
   "cell_type": "markdown",
   "metadata": {},
   "source": [
    "#### En la revisión de las ventas por marcas, podemos identificar la mayor representación de dos marcas con influencia en las ventas."
   ]
  },
  {
   "cell_type": "code",
   "execution_count": 265,
   "metadata": {
    "scrolled": true
   },
   "outputs": [
    {
     "data": {
      "image/png": "[encoded data removed]",
      "text/plain": [
       "<Figure size 432x288 with 1 Axes>"
      ]
     },
     "metadata": {
      "needs_background": "light"
     },
     "output_type": "display_data"
    }
   ],
   "source": [
    "# Revisión de la variable Contenido - Hace referencia al contenido de los productos\n",
    "plt.hist(rawData['Contenido'])\n",
    "plt.show()"
   ]
  },
  {
   "cell_type": "markdown",
   "metadata": {},
   "source": [
    "#### Las ventas por contenido de producto nos indican que existe una mayor cantidad de ventas de productos de contenido bajo, menor de 200 gramos por unidad"
   ]
  },
  {
   "cell_type": "code",
   "execution_count": 266,
   "metadata": {
    "scrolled": true
   },
   "outputs": [
    {
     "data": {
      "image/png": "[encoded data removed]",
      "text/plain": [
       "<Figure size 432x288 with 1 Axes>"
      ]
     },
     "metadata": {
      "needs_background": "light"
     },
     "output_type": "display_data"
    }
   ],
   "source": [
    "# Revisión de la variable CodSub - Hace referencia al tipo de categoría al que pertenece el producto\n",
    "plt.hist(rawData['CodSub'])\n",
    "plt.show()"
   ]
  },
  {
   "cell_type": "markdown",
   "metadata": {},
   "source": [
    "#### Hay una mayor cantidad de ventas de dos categorías de productos, concentrados en los tipos de categorías con el código A y V"
   ]
  },
  {
   "cell_type": "code",
   "execution_count": 267,
   "metadata": {
    "scrolled": true
   },
   "outputs": [
    {
     "data": {
      "image/png": "[encoded data removed]",
      "text/plain": [
       "<Figure size 432x288 with 1 Axes>"
      ]
     },
     "metadata": {
      "needs_background": "light"
     },
     "output_type": "display_data"
    }
   ],
   "source": [
    "# Revisión de la variable CodSeg - Hace referencia al segmento de tamaño que pertenece el producto\n",
    "plt.hist(rawData['CodSeg'])\n",
    "plt.show()"
   ]
  },
  {
   "cell_type": "markdown",
   "metadata": {},
   "source": [
    "#### En cuanto al segmento de tamaño, se refuerza el dato de que aquellos productos con menor tamaño son los que representan el mayor porcentaje de las ventas:"
   ]
  },
  {
   "cell_type": "markdown",
   "metadata": {},
   "source": [
    "### Creación de variables para almacenar la suma por mes de las ventas en unidades y en valor y posteriormente  la revisión por mes de los datos"
   ]
  },
  {
   "cell_type": "code",
   "execution_count": 271,
   "metadata": {},
   "outputs": [],
   "source": [
    "# Suma de las variables de Ventas en valor\n",
    "\n",
    "VEne=rawData['V201901'].sum()\n",
    "VFeb=rawData['V201902'].sum()\n",
    "VMar=rawData['V201903'].sum()\n",
    "VAbr=rawData['V201904'].sum()\n",
    "VMay=rawData['V201905'].sum()\n",
    "VJun=rawData['V201906'].sum()\n",
    "VJul=rawData['V201907'].sum()\n",
    "VAgo=rawData['V201908'].sum()\n",
    "VSet=rawData['V201909'].sum()\n",
    "VOct=rawData['V201910'].sum()\n",
    "VNov=rawData['V201911'].sum()\n",
    "VDic=rawData['V201912'].sum()\n",
    "\n",
    "# Suma de las variables de Ventas en unidades\n",
    "UEne=rawData['U201901'].sum()\n",
    "UFeb=rawData['U201902'].sum()\n",
    "UMar=rawData['U201903'].sum()\n",
    "UAbr=rawData['U201904'].sum()\n",
    "UMay=rawData['U201905'].sum()\n",
    "UJun=rawData['U201906'].sum()\n",
    "UJul=rawData['U201907'].sum()\n",
    "UAgo=rawData['U201908'].sum()\n",
    "USet=rawData['U201909'].sum()\n",
    "UOct=rawData['U201910'].sum()\n",
    "UNov=rawData['U201911'].sum()\n",
    "UDic=rawData['U201912'].sum()"
   ]
  },
  {
   "cell_type": "markdown",
   "metadata": {},
   "source": [
    "### Creación de un data frame con los valores de las ventas totales en valor y unidades para analizar y entender los meses de mayor venta de los productos, validar estacionalidades o temporadas en las ventas mensuales de la categoría"
   ]
  },
  {
   "cell_type": "code",
   "execution_count": 272,
   "metadata": {},
   "outputs": [
    {
     "data": {
      "text/html": [
       "<div>\n",
       "<style scoped>\n",
       "    .dataframe tbody tr th:only-of-type {\n",
       "        vertical-align: middle;\n",
       "    }\n",
       "\n",
       "    .dataframe tbody tr th {\n",
       "        vertical-align: top;\n",
       "    }\n",
       "\n",
       "    .dataframe thead th {\n",
       "        text-align: right;\n",
       "    }\n",
       "</style>\n",
       "<table border=\"1\" class=\"dataframe\">\n",
       "  <thead>\n",
       "    <tr style=\"text-align: right;\">\n",
       "      <th></th>\n",
       "      <th>Mes</th>\n",
       "      <th>Unidades</th>\n",
       "      <th>Valor</th>\n",
       "    </tr>\n",
       "  </thead>\n",
       "  <tbody>\n",
       "    <tr>\n",
       "      <td>1</td>\n",
       "      <td>Ene</td>\n",
       "      <td>1922955</td>\n",
       "      <td>2.253868e+09</td>\n",
       "    </tr>\n",
       "    <tr>\n",
       "      <td>2</td>\n",
       "      <td>Feb</td>\n",
       "      <td>1840483</td>\n",
       "      <td>2.124933e+09</td>\n",
       "    </tr>\n",
       "    <tr>\n",
       "      <td>3</td>\n",
       "      <td>Mar</td>\n",
       "      <td>2243710</td>\n",
       "      <td>2.563068e+09</td>\n",
       "    </tr>\n",
       "    <tr>\n",
       "      <td>4</td>\n",
       "      <td>Abr</td>\n",
       "      <td>2166707</td>\n",
       "      <td>2.469936e+09</td>\n",
       "    </tr>\n",
       "    <tr>\n",
       "      <td>5</td>\n",
       "      <td>May</td>\n",
       "      <td>1872352</td>\n",
       "      <td>2.145730e+09</td>\n",
       "    </tr>\n",
       "    <tr>\n",
       "      <td>6</td>\n",
       "      <td>Jun</td>\n",
       "      <td>1790156</td>\n",
       "      <td>2.188798e+09</td>\n",
       "    </tr>\n",
       "    <tr>\n",
       "      <td>7</td>\n",
       "      <td>Jul</td>\n",
       "      <td>1891145</td>\n",
       "      <td>2.264295e+09</td>\n",
       "    </tr>\n",
       "    <tr>\n",
       "      <td>8</td>\n",
       "      <td>Ago</td>\n",
       "      <td>1942574</td>\n",
       "      <td>2.277188e+09</td>\n",
       "    </tr>\n",
       "    <tr>\n",
       "      <td>9</td>\n",
       "      <td>Set</td>\n",
       "      <td>1765520</td>\n",
       "      <td>2.117279e+09</td>\n",
       "    </tr>\n",
       "    <tr>\n",
       "      <td>10</td>\n",
       "      <td>Oct</td>\n",
       "      <td>1648990</td>\n",
       "      <td>1.893696e+09</td>\n",
       "    </tr>\n",
       "    <tr>\n",
       "      <td>11</td>\n",
       "      <td>Nov</td>\n",
       "      <td>1584807</td>\n",
       "      <td>1.811373e+09</td>\n",
       "    </tr>\n",
       "    <tr>\n",
       "      <td>12</td>\n",
       "      <td>Dic</td>\n",
       "      <td>1790925</td>\n",
       "      <td>2.055030e+09</td>\n",
       "    </tr>\n",
       "  </tbody>\n",
       "</table>\n",
       "</div>"
      ],
      "text/plain": [
       "    Mes  Unidades         Valor\n",
       "1   Ene   1922955  2.253868e+09\n",
       "2   Feb   1840483  2.124933e+09\n",
       "3   Mar   2243710  2.563068e+09\n",
       "4   Abr   2166707  2.469936e+09\n",
       "5   May   1872352  2.145730e+09\n",
       "6   Jun   1790156  2.188798e+09\n",
       "7   Jul   1891145  2.264295e+09\n",
       "8   Ago   1942574  2.277188e+09\n",
       "9   Set   1765520  2.117279e+09\n",
       "10  Oct   1648990  1.893696e+09\n",
       "11  Nov   1584807  1.811373e+09\n",
       "12  Dic   1790925  2.055030e+09"
      ]
     },
     "execution_count": 272,
     "metadata": {},
     "output_type": "execute_result"
    }
   ],
   "source": [
    "# Creación de los índices\n",
    "indices=['1','2','3','4','5','6','7','8','9','10','11','12']\n",
    "\n",
    "# Valores de la variable mes\n",
    "mes=['Ene','Feb','Mar','Abr','May','Jun','Jul','Ago','Set','Oct','Nov','Dic']\n",
    "\n",
    "# Asignación de los valores de la variable Unidades\n",
    "Uds=[UEne,UFeb,UMar,UAbr,UMay,UJun,UJul,UAgo,USet,UOct,UNov,UDic]\n",
    "\n",
    "# Asignación de los valores de la variable Valor\n",
    "Val=[VEne,VFeb,VMar,VAbr,VMay,VJun,VJul,VAgo,VSet,VOct,VNov,VDic]\n",
    "\n",
    "#Creación de las columnas del dataFrame\n",
    "Ventas ={'Mes':mes,'Unidades':Uds,'Valor':Val}\n",
    "\n",
    "# Creación del dataframe y asignación de los valores\n",
    "DFVentas=pd.DataFrame(data=Ventas,index=indices)\n",
    "\n",
    "#Visualización del dataframe\n",
    "DFVentas"
   ]
  },
  {
   "cell_type": "markdown",
   "metadata": {},
   "source": [
    "### Graficación de las ventas en unidades para identificar estacionalidades o los meses de mayor venta"
   ]
  },
  {
   "cell_type": "code",
   "execution_count": 273,
   "metadata": {
    "scrolled": true
   },
   "outputs": [
    {
     "data": {
      "text/plain": [
       "Text(0.5, 1.0, 'Ventas Unidades por Mes')"
      ]
     },
     "execution_count": 273,
     "metadata": {},
     "output_type": "execute_result"
    },
    {
     "data": {
      "image/png": "[encoded data removed]",
      "text/plain": [
       "<Figure size 432x288 with 1 Axes>"
      ]
     },
     "metadata": {
      "needs_background": "light"
     },
     "output_type": "display_data"
    }
   ],
   "source": [
    "DFVentas.Unidades.plot(kind='bar')\n",
    "plt.xlabel('DFVentas.Mes')\n",
    "plt.title('Ventas Unidades por Mes')"
   ]
  },
  {
   "cell_type": "markdown",
   "metadata": {},
   "source": [
    "#### En la revisión de la variable se puede identificar un comportamiento de mayor ventas en los meses de marzo y abril\n",
    "#### Dado que los datos pertenecen a la categoría de Atún, este comportamiento puede estar influenciado por el comportamiento de los consumidores al mayor consumo de proteína de pescado vs las proteínas de carne de res o pollo"
   ]
  },
  {
   "cell_type": "markdown",
   "metadata": {},
   "source": [
    "### Graficación de las ventas en valor para identificar las estacionalidades o si existe un comportamiento diferente en el valor de la categoría con respecto a los precios"
   ]
  },
  {
   "cell_type": "code",
   "execution_count": 274,
   "metadata": {
    "scrolled": false
   },
   "outputs": [
    {
     "data": {
      "text/plain": [
       "Text(0.5, 1.0, 'Ventas Valor por Mes')"
      ]
     },
     "execution_count": 274,
     "metadata": {},
     "output_type": "execute_result"
    },
    {
     "data": {
      "image/png": "[encoded data removed]",
      "text/plain": [
       "<Figure size 432x288 with 1 Axes>"
      ]
     },
     "metadata": {
      "needs_background": "light"
     },
     "output_type": "display_data"
    }
   ],
   "source": [
    "DFVentas.Valor.plot(kind='bar')\n",
    "plt.title('Ventas Valor por Mes')"
   ]
  },
  {
   "cell_type": "markdown",
   "metadata": {},
   "source": [
    "#### Al igual que los resultados identificados en las ventas en unidades, las ventas en valor muestran un comportamiento de mayor venta en los meses de marzo y abril, con una tendencia similar entre ambas variables, lo que hace indicar que el precio está bastante relacionado a ambas"
   ]
  },
  {
   "cell_type": "markdown",
   "metadata": {},
   "source": [
    "### Identificados los meses de mayor venta, se van a realizar algunas revisiones de los datos en los meses de mayor venta, los cuales son marzo y abril"
   ]
  },
  {
   "cell_type": "code",
   "execution_count": 268,
   "metadata": {
    "scrolled": true
   },
   "outputs": [
    {
     "data": {
      "image/png": "[encoded data removed]",
      "text/plain": [
       "<Figure size 432x288 with 1 Axes>"
      ]
     },
     "metadata": {
      "needs_background": "light"
     },
     "output_type": "display_data"
    }
   ],
   "source": [
    "##Exploración de los productos en un periodo específico\n",
    "\n",
    "x = rawData['CodProd']\n",
    "y = rawData['V201904']\n",
    "\n",
    "\n",
    "plt.scatter(x,y)\n",
    "plt.show()"
   ]
  },
  {
   "cell_type": "markdown",
   "metadata": {},
   "source": [
    "#### Se realiza una exploración de las ventas de los productos en el mes 04, dado que es uno de los meses de mayor representación en las ventas para entender la disperción de las ventas por producto."
   ]
  },
  {
   "cell_type": "code",
   "execution_count": 269,
   "metadata": {},
   "outputs": [
    {
     "data": {
      "text/plain": [
       "<seaborn.axisgrid.FacetGrid at 0x24fc28baf88>"
      ]
     },
     "execution_count": 269,
     "metadata": {},
     "output_type": "execute_result"
    },
    {
     "data": {
      "image/png": "[encoded data removed]",
      "text/plain": [
       "<Figure size 911.5x216 with 1 Axes>"
      ]
     },
     "metadata": {
      "needs_background": "light"
     },
     "output_type": "display_data"
    }
   ],
   "source": [
    "# Códigos por país\n",
    "\n",
    "fig = sns.FacetGrid(rawData, hue='CodPais', aspect=4)\n",
    "fig.map(sns.kdeplot, 'CodProd', shade=True)\n",
    "oldest = rawData['CodProd'].max()\n",
    "fig.set(xlim=(0,oldest))\n",
    "fig.set(title='Distribución de los productos por país')\n",
    "fig.add_legend()"
   ]
  },
  {
   "cell_type": "markdown",
   "metadata": {},
   "source": [
    "#### Para entender la concentración de códigos por país se realizó la revisión de esta concentración, pero no se identifica ningún comportamiento atípico en la información."
   ]
  },
  {
   "cell_type": "code",
   "execution_count": 270,
   "metadata": {
    "scrolled": false
   },
   "outputs": [
    {
     "data": {
      "text/plain": [
       "Text(0.5, 1.0, 'Ventas por Cadena')"
      ]
     },
     "execution_count": 270,
     "metadata": {},
     "output_type": "execute_result"
    },
    {
     "data": {
      "image/png": "[encoded data removed]",
      "text/plain": [
       "<Figure size 432x288 with 1 Axes>"
      ]
     },
     "metadata": {},
     "output_type": "display_data"
    }
   ],
   "source": [
    "# Revisión de las ventas por cadena en el mes de abril\n",
    "\n",
    "rawData.V201904.groupby(rawData.CodCad).sum().plot(kind='pie')\n",
    "plt.ylabel(' ')\n",
    "plt.title('Ventas por Cadena')"
   ]
  },
  {
   "cell_type": "markdown",
   "metadata": {},
   "source": [
    "#### Al revisar las ventas por cadena en un mes específico, se identifica una representación alta de las tiendas del código =2"
   ]
  },
  {
   "cell_type": "markdown",
   "metadata": {},
   "source": [
    "## Matriz de correlación\n",
    "#### Creación de la Matriz para valorar la correlación de las variables"
   ]
  },
  {
   "cell_type": "code",
   "execution_count": 275,
   "metadata": {
    "scrolled": true
   },
   "outputs": [
    {
     "data": {
      "text/html": [
       "<div>\n",
       "<style scoped>\n",
       "    .dataframe tbody tr th:only-of-type {\n",
       "        vertical-align: middle;\n",
       "    }\n",
       "\n",
       "    .dataframe tbody tr th {\n",
       "        vertical-align: top;\n",
       "    }\n",
       "\n",
       "    .dataframe thead th {\n",
       "        text-align: right;\n",
       "    }\n",
       "</style>\n",
       "<table border=\"1\" class=\"dataframe\">\n",
       "  <thead>\n",
       "    <tr style=\"text-align: right;\">\n",
       "      <th></th>\n",
       "      <th>CodPais</th>\n",
       "      <th>CodCad</th>\n",
       "      <th>CodProd</th>\n",
       "      <th>UE</th>\n",
       "      <th>Contenido</th>\n",
       "      <th>V201901</th>\n",
       "      <th>V201902</th>\n",
       "      <th>V201903</th>\n",
       "      <th>V201904</th>\n",
       "      <th>V201905</th>\n",
       "      <th>...</th>\n",
       "      <th>U201903</th>\n",
       "      <th>U201904</th>\n",
       "      <th>U201905</th>\n",
       "      <th>U201906</th>\n",
       "      <th>U201907</th>\n",
       "      <th>U201908</th>\n",
       "      <th>U201909</th>\n",
       "      <th>U201910</th>\n",
       "      <th>U201911</th>\n",
       "      <th>U201912</th>\n",
       "    </tr>\n",
       "  </thead>\n",
       "  <tbody>\n",
       "    <tr>\n",
       "      <td>CodPais</td>\n",
       "      <td>1.00</td>\n",
       "      <td>0.04</td>\n",
       "      <td>0.04</td>\n",
       "      <td>0.33</td>\n",
       "      <td>-0.33</td>\n",
       "      <td>-0.35</td>\n",
       "      <td>-0.32</td>\n",
       "      <td>-0.32</td>\n",
       "      <td>-0.31</td>\n",
       "      <td>-0.33</td>\n",
       "      <td>...</td>\n",
       "      <td>-0.15</td>\n",
       "      <td>-0.15</td>\n",
       "      <td>-0.15</td>\n",
       "      <td>-0.15</td>\n",
       "      <td>-0.14</td>\n",
       "      <td>-0.13</td>\n",
       "      <td>-0.12</td>\n",
       "      <td>-0.12</td>\n",
       "      <td>-0.12</td>\n",
       "      <td>-0.13</td>\n",
       "    </tr>\n",
       "    <tr>\n",
       "      <td>CodCad</td>\n",
       "      <td>0.04</td>\n",
       "      <td>1.00</td>\n",
       "      <td>0.02</td>\n",
       "      <td>-0.02</td>\n",
       "      <td>0.03</td>\n",
       "      <td>-0.16</td>\n",
       "      <td>-0.14</td>\n",
       "      <td>-0.15</td>\n",
       "      <td>-0.15</td>\n",
       "      <td>-0.16</td>\n",
       "      <td>...</td>\n",
       "      <td>-0.12</td>\n",
       "      <td>-0.13</td>\n",
       "      <td>-0.12</td>\n",
       "      <td>-0.11</td>\n",
       "      <td>-0.09</td>\n",
       "      <td>-0.09</td>\n",
       "      <td>-0.09</td>\n",
       "      <td>-0.09</td>\n",
       "      <td>-0.09</td>\n",
       "      <td>-0.10</td>\n",
       "    </tr>\n",
       "    <tr>\n",
       "      <td>CodProd</td>\n",
       "      <td>0.04</td>\n",
       "      <td>0.02</td>\n",
       "      <td>1.00</td>\n",
       "      <td>-0.10</td>\n",
       "      <td>0.06</td>\n",
       "      <td>-0.16</td>\n",
       "      <td>-0.11</td>\n",
       "      <td>-0.10</td>\n",
       "      <td>-0.10</td>\n",
       "      <td>-0.11</td>\n",
       "      <td>...</td>\n",
       "      <td>-0.01</td>\n",
       "      <td>-0.02</td>\n",
       "      <td>-0.01</td>\n",
       "      <td>0.00</td>\n",
       "      <td>0.01</td>\n",
       "      <td>0.01</td>\n",
       "      <td>0.02</td>\n",
       "      <td>0.02</td>\n",
       "      <td>0.02</td>\n",
       "      <td>0.02</td>\n",
       "    </tr>\n",
       "    <tr>\n",
       "      <td>UE</td>\n",
       "      <td>0.33</td>\n",
       "      <td>-0.02</td>\n",
       "      <td>-0.10</td>\n",
       "      <td>1.00</td>\n",
       "      <td>-0.87</td>\n",
       "      <td>-0.04</td>\n",
       "      <td>-0.09</td>\n",
       "      <td>-0.14</td>\n",
       "      <td>-0.14</td>\n",
       "      <td>-0.11</td>\n",
       "      <td>...</td>\n",
       "      <td>0.05</td>\n",
       "      <td>0.05</td>\n",
       "      <td>0.06</td>\n",
       "      <td>0.05</td>\n",
       "      <td>0.04</td>\n",
       "      <td>0.04</td>\n",
       "      <td>0.04</td>\n",
       "      <td>0.05</td>\n",
       "      <td>0.06</td>\n",
       "      <td>0.06</td>\n",
       "    </tr>\n",
       "    <tr>\n",
       "      <td>Contenido</td>\n",
       "      <td>-0.33</td>\n",
       "      <td>0.03</td>\n",
       "      <td>0.06</td>\n",
       "      <td>-0.87</td>\n",
       "      <td>1.00</td>\n",
       "      <td>0.07</td>\n",
       "      <td>0.09</td>\n",
       "      <td>0.12</td>\n",
       "      <td>0.11</td>\n",
       "      <td>0.07</td>\n",
       "      <td>...</td>\n",
       "      <td>-0.05</td>\n",
       "      <td>-0.04</td>\n",
       "      <td>-0.06</td>\n",
       "      <td>-0.06</td>\n",
       "      <td>-0.05</td>\n",
       "      <td>-0.06</td>\n",
       "      <td>-0.05</td>\n",
       "      <td>-0.06</td>\n",
       "      <td>-0.06</td>\n",
       "      <td>-0.06</td>\n",
       "    </tr>\n",
       "    <tr>\n",
       "      <td>V201901</td>\n",
       "      <td>-0.35</td>\n",
       "      <td>-0.16</td>\n",
       "      <td>-0.16</td>\n",
       "      <td>-0.04</td>\n",
       "      <td>0.07</td>\n",
       "      <td>1.00</td>\n",
       "      <td>0.90</td>\n",
       "      <td>0.82</td>\n",
       "      <td>0.75</td>\n",
       "      <td>0.78</td>\n",
       "      <td>...</td>\n",
       "      <td>0.70</td>\n",
       "      <td>0.69</td>\n",
       "      <td>0.70</td>\n",
       "      <td>0.67</td>\n",
       "      <td>0.65</td>\n",
       "      <td>0.63</td>\n",
       "      <td>0.62</td>\n",
       "      <td>0.62</td>\n",
       "      <td>0.62</td>\n",
       "      <td>0.63</td>\n",
       "    </tr>\n",
       "    <tr>\n",
       "      <td>V201902</td>\n",
       "      <td>-0.32</td>\n",
       "      <td>-0.14</td>\n",
       "      <td>-0.11</td>\n",
       "      <td>-0.09</td>\n",
       "      <td>0.09</td>\n",
       "      <td>0.90</td>\n",
       "      <td>1.00</td>\n",
       "      <td>0.92</td>\n",
       "      <td>0.86</td>\n",
       "      <td>0.89</td>\n",
       "      <td>...</td>\n",
       "      <td>0.82</td>\n",
       "      <td>0.80</td>\n",
       "      <td>0.82</td>\n",
       "      <td>0.82</td>\n",
       "      <td>0.82</td>\n",
       "      <td>0.80</td>\n",
       "      <td>0.80</td>\n",
       "      <td>0.79</td>\n",
       "      <td>0.78</td>\n",
       "      <td>0.80</td>\n",
       "    </tr>\n",
       "    <tr>\n",
       "      <td>V201903</td>\n",
       "      <td>-0.32</td>\n",
       "      <td>-0.15</td>\n",
       "      <td>-0.10</td>\n",
       "      <td>-0.14</td>\n",
       "      <td>0.12</td>\n",
       "      <td>0.82</td>\n",
       "      <td>0.92</td>\n",
       "      <td>1.00</td>\n",
       "      <td>0.98</td>\n",
       "      <td>0.96</td>\n",
       "      <td>...</td>\n",
       "      <td>0.84</td>\n",
       "      <td>0.85</td>\n",
       "      <td>0.82</td>\n",
       "      <td>0.75</td>\n",
       "      <td>0.72</td>\n",
       "      <td>0.71</td>\n",
       "      <td>0.71</td>\n",
       "      <td>0.68</td>\n",
       "      <td>0.67</td>\n",
       "      <td>0.69</td>\n",
       "    </tr>\n",
       "    <tr>\n",
       "      <td>V201904</td>\n",
       "      <td>-0.31</td>\n",
       "      <td>-0.15</td>\n",
       "      <td>-0.10</td>\n",
       "      <td>-0.14</td>\n",
       "      <td>0.11</td>\n",
       "      <td>0.75</td>\n",
       "      <td>0.86</td>\n",
       "      <td>0.98</td>\n",
       "      <td>1.00</td>\n",
       "      <td>0.96</td>\n",
       "      <td>...</td>\n",
       "      <td>0.78</td>\n",
       "      <td>0.83</td>\n",
       "      <td>0.77</td>\n",
       "      <td>0.68</td>\n",
       "      <td>0.65</td>\n",
       "      <td>0.63</td>\n",
       "      <td>0.63</td>\n",
       "      <td>0.60</td>\n",
       "      <td>0.58</td>\n",
       "      <td>0.60</td>\n",
       "    </tr>\n",
       "    <tr>\n",
       "      <td>V201905</td>\n",
       "      <td>-0.33</td>\n",
       "      <td>-0.16</td>\n",
       "      <td>-0.11</td>\n",
       "      <td>-0.11</td>\n",
       "      <td>0.07</td>\n",
       "      <td>0.78</td>\n",
       "      <td>0.89</td>\n",
       "      <td>0.96</td>\n",
       "      <td>0.96</td>\n",
       "      <td>1.00</td>\n",
       "      <td>...</td>\n",
       "      <td>0.83</td>\n",
       "      <td>0.85</td>\n",
       "      <td>0.84</td>\n",
       "      <td>0.80</td>\n",
       "      <td>0.76</td>\n",
       "      <td>0.75</td>\n",
       "      <td>0.75</td>\n",
       "      <td>0.72</td>\n",
       "      <td>0.71</td>\n",
       "      <td>0.72</td>\n",
       "    </tr>\n",
       "    <tr>\n",
       "      <td>V201906</td>\n",
       "      <td>-0.33</td>\n",
       "      <td>-0.16</td>\n",
       "      <td>-0.10</td>\n",
       "      <td>-0.14</td>\n",
       "      <td>0.09</td>\n",
       "      <td>0.76</td>\n",
       "      <td>0.88</td>\n",
       "      <td>0.88</td>\n",
       "      <td>0.86</td>\n",
       "      <td>0.95</td>\n",
       "      <td>...</td>\n",
       "      <td>0.75</td>\n",
       "      <td>0.75</td>\n",
       "      <td>0.78</td>\n",
       "      <td>0.82</td>\n",
       "      <td>0.81</td>\n",
       "      <td>0.79</td>\n",
       "      <td>0.79</td>\n",
       "      <td>0.75</td>\n",
       "      <td>0.74</td>\n",
       "      <td>0.73</td>\n",
       "    </tr>\n",
       "    <tr>\n",
       "      <td>V201907</td>\n",
       "      <td>-0.30</td>\n",
       "      <td>-0.14</td>\n",
       "      <td>-0.10</td>\n",
       "      <td>-0.13</td>\n",
       "      <td>0.08</td>\n",
       "      <td>0.76</td>\n",
       "      <td>0.90</td>\n",
       "      <td>0.87</td>\n",
       "      <td>0.84</td>\n",
       "      <td>0.91</td>\n",
       "      <td>...</td>\n",
       "      <td>0.73</td>\n",
       "      <td>0.71</td>\n",
       "      <td>0.75</td>\n",
       "      <td>0.80</td>\n",
       "      <td>0.82</td>\n",
       "      <td>0.81</td>\n",
       "      <td>0.79</td>\n",
       "      <td>0.75</td>\n",
       "      <td>0.73</td>\n",
       "      <td>0.72</td>\n",
       "    </tr>\n",
       "    <tr>\n",
       "      <td>V201908</td>\n",
       "      <td>-0.29</td>\n",
       "      <td>-0.14</td>\n",
       "      <td>-0.09</td>\n",
       "      <td>-0.13</td>\n",
       "      <td>0.07</td>\n",
       "      <td>0.72</td>\n",
       "      <td>0.88</td>\n",
       "      <td>0.85</td>\n",
       "      <td>0.82</td>\n",
       "      <td>0.89</td>\n",
       "      <td>...</td>\n",
       "      <td>0.74</td>\n",
       "      <td>0.73</td>\n",
       "      <td>0.76</td>\n",
       "      <td>0.82</td>\n",
       "      <td>0.84</td>\n",
       "      <td>0.84</td>\n",
       "      <td>0.82</td>\n",
       "      <td>0.77</td>\n",
       "      <td>0.75</td>\n",
       "      <td>0.74</td>\n",
       "    </tr>\n",
       "    <tr>\n",
       "      <td>V201909</td>\n",
       "      <td>-0.29</td>\n",
       "      <td>-0.13</td>\n",
       "      <td>-0.09</td>\n",
       "      <td>-0.13</td>\n",
       "      <td>0.08</td>\n",
       "      <td>0.73</td>\n",
       "      <td>0.88</td>\n",
       "      <td>0.84</td>\n",
       "      <td>0.81</td>\n",
       "      <td>0.89</td>\n",
       "      <td>...</td>\n",
       "      <td>0.75</td>\n",
       "      <td>0.73</td>\n",
       "      <td>0.77</td>\n",
       "      <td>0.82</td>\n",
       "      <td>0.83</td>\n",
       "      <td>0.83</td>\n",
       "      <td>0.83</td>\n",
       "      <td>0.78</td>\n",
       "      <td>0.76</td>\n",
       "      <td>0.75</td>\n",
       "    </tr>\n",
       "    <tr>\n",
       "      <td>V201910</td>\n",
       "      <td>-0.29</td>\n",
       "      <td>-0.13</td>\n",
       "      <td>-0.07</td>\n",
       "      <td>-0.11</td>\n",
       "      <td>0.04</td>\n",
       "      <td>0.73</td>\n",
       "      <td>0.85</td>\n",
       "      <td>0.79</td>\n",
       "      <td>0.73</td>\n",
       "      <td>0.85</td>\n",
       "      <td>...</td>\n",
       "      <td>0.77</td>\n",
       "      <td>0.74</td>\n",
       "      <td>0.80</td>\n",
       "      <td>0.84</td>\n",
       "      <td>0.84</td>\n",
       "      <td>0.84</td>\n",
       "      <td>0.84</td>\n",
       "      <td>0.86</td>\n",
       "      <td>0.84</td>\n",
       "      <td>0.83</td>\n",
       "    </tr>\n",
       "    <tr>\n",
       "      <td>V201911</td>\n",
       "      <td>-0.30</td>\n",
       "      <td>-0.14</td>\n",
       "      <td>-0.06</td>\n",
       "      <td>-0.08</td>\n",
       "      <td>0.08</td>\n",
       "      <td>0.77</td>\n",
       "      <td>0.87</td>\n",
       "      <td>0.77</td>\n",
       "      <td>0.68</td>\n",
       "      <td>0.80</td>\n",
       "      <td>...</td>\n",
       "      <td>0.78</td>\n",
       "      <td>0.73</td>\n",
       "      <td>0.80</td>\n",
       "      <td>0.84</td>\n",
       "      <td>0.84</td>\n",
       "      <td>0.83</td>\n",
       "      <td>0.83</td>\n",
       "      <td>0.86</td>\n",
       "      <td>0.87</td>\n",
       "      <td>0.86</td>\n",
       "    </tr>\n",
       "    <tr>\n",
       "      <td>V201912</td>\n",
       "      <td>-0.31</td>\n",
       "      <td>-0.15</td>\n",
       "      <td>-0.07</td>\n",
       "      <td>-0.06</td>\n",
       "      <td>0.09</td>\n",
       "      <td>0.78</td>\n",
       "      <td>0.89</td>\n",
       "      <td>0.78</td>\n",
       "      <td>0.70</td>\n",
       "      <td>0.80</td>\n",
       "      <td>...</td>\n",
       "      <td>0.79</td>\n",
       "      <td>0.75</td>\n",
       "      <td>0.80</td>\n",
       "      <td>0.84</td>\n",
       "      <td>0.83</td>\n",
       "      <td>0.82</td>\n",
       "      <td>0.82</td>\n",
       "      <td>0.84</td>\n",
       "      <td>0.86</td>\n",
       "      <td>0.88</td>\n",
       "    </tr>\n",
       "    <tr>\n",
       "      <td>P201901</td>\n",
       "      <td>-0.56</td>\n",
       "      <td>0.02</td>\n",
       "      <td>-0.01</td>\n",
       "      <td>-0.76</td>\n",
       "      <td>0.86</td>\n",
       "      <td>0.20</td>\n",
       "      <td>0.19</td>\n",
       "      <td>0.21</td>\n",
       "      <td>0.19</td>\n",
       "      <td>0.18</td>\n",
       "      <td>...</td>\n",
       "      <td>-0.02</td>\n",
       "      <td>-0.02</td>\n",
       "      <td>-0.02</td>\n",
       "      <td>-0.01</td>\n",
       "      <td>-0.02</td>\n",
       "      <td>-0.02</td>\n",
       "      <td>-0.01</td>\n",
       "      <td>-0.02</td>\n",
       "      <td>-0.02</td>\n",
       "      <td>-0.02</td>\n",
       "    </tr>\n",
       "    <tr>\n",
       "      <td>P201902</td>\n",
       "      <td>-0.56</td>\n",
       "      <td>0.02</td>\n",
       "      <td>-0.01</td>\n",
       "      <td>-0.75</td>\n",
       "      <td>0.86</td>\n",
       "      <td>0.21</td>\n",
       "      <td>0.19</td>\n",
       "      <td>0.20</td>\n",
       "      <td>0.18</td>\n",
       "      <td>0.18</td>\n",
       "      <td>...</td>\n",
       "      <td>-0.03</td>\n",
       "      <td>-0.03</td>\n",
       "      <td>-0.02</td>\n",
       "      <td>-0.02</td>\n",
       "      <td>-0.02</td>\n",
       "      <td>-0.02</td>\n",
       "      <td>-0.02</td>\n",
       "      <td>-0.02</td>\n",
       "      <td>-0.02</td>\n",
       "      <td>-0.02</td>\n",
       "    </tr>\n",
       "    <tr>\n",
       "      <td>P201903</td>\n",
       "      <td>-0.55</td>\n",
       "      <td>0.02</td>\n",
       "      <td>-0.01</td>\n",
       "      <td>-0.75</td>\n",
       "      <td>0.86</td>\n",
       "      <td>0.20</td>\n",
       "      <td>0.19</td>\n",
       "      <td>0.20</td>\n",
       "      <td>0.18</td>\n",
       "      <td>0.18</td>\n",
       "      <td>...</td>\n",
       "      <td>-0.03</td>\n",
       "      <td>-0.03</td>\n",
       "      <td>-0.02</td>\n",
       "      <td>-0.02</td>\n",
       "      <td>-0.02</td>\n",
       "      <td>-0.02</td>\n",
       "      <td>-0.02</td>\n",
       "      <td>-0.02</td>\n",
       "      <td>-0.02</td>\n",
       "      <td>-0.02</td>\n",
       "    </tr>\n",
       "    <tr>\n",
       "      <td>P201904</td>\n",
       "      <td>-0.55</td>\n",
       "      <td>0.02</td>\n",
       "      <td>-0.01</td>\n",
       "      <td>-0.75</td>\n",
       "      <td>0.86</td>\n",
       "      <td>0.21</td>\n",
       "      <td>0.20</td>\n",
       "      <td>0.20</td>\n",
       "      <td>0.18</td>\n",
       "      <td>0.17</td>\n",
       "      <td>...</td>\n",
       "      <td>-0.03</td>\n",
       "      <td>-0.03</td>\n",
       "      <td>-0.02</td>\n",
       "      <td>-0.02</td>\n",
       "      <td>-0.02</td>\n",
       "      <td>-0.02</td>\n",
       "      <td>-0.02</td>\n",
       "      <td>-0.02</td>\n",
       "      <td>-0.02</td>\n",
       "      <td>-0.02</td>\n",
       "    </tr>\n",
       "    <tr>\n",
       "      <td>P201905</td>\n",
       "      <td>-0.55</td>\n",
       "      <td>0.01</td>\n",
       "      <td>-0.01</td>\n",
       "      <td>-0.76</td>\n",
       "      <td>0.86</td>\n",
       "      <td>0.21</td>\n",
       "      <td>0.20</td>\n",
       "      <td>0.21</td>\n",
       "      <td>0.19</td>\n",
       "      <td>0.18</td>\n",
       "      <td>...</td>\n",
       "      <td>-0.02</td>\n",
       "      <td>-0.02</td>\n",
       "      <td>-0.02</td>\n",
       "      <td>-0.01</td>\n",
       "      <td>-0.01</td>\n",
       "      <td>-0.02</td>\n",
       "      <td>-0.01</td>\n",
       "      <td>-0.02</td>\n",
       "      <td>-0.02</td>\n",
       "      <td>-0.02</td>\n",
       "    </tr>\n",
       "    <tr>\n",
       "      <td>P201906</td>\n",
       "      <td>-0.55</td>\n",
       "      <td>0.02</td>\n",
       "      <td>-0.01</td>\n",
       "      <td>-0.76</td>\n",
       "      <td>0.86</td>\n",
       "      <td>0.21</td>\n",
       "      <td>0.20</td>\n",
       "      <td>0.20</td>\n",
       "      <td>0.19</td>\n",
       "      <td>0.18</td>\n",
       "      <td>...</td>\n",
       "      <td>-0.02</td>\n",
       "      <td>-0.02</td>\n",
       "      <td>-0.02</td>\n",
       "      <td>-0.01</td>\n",
       "      <td>-0.01</td>\n",
       "      <td>-0.02</td>\n",
       "      <td>-0.01</td>\n",
       "      <td>-0.02</td>\n",
       "      <td>-0.02</td>\n",
       "      <td>-0.02</td>\n",
       "    </tr>\n",
       "    <tr>\n",
       "      <td>P201907</td>\n",
       "      <td>-0.55</td>\n",
       "      <td>0.02</td>\n",
       "      <td>0.00</td>\n",
       "      <td>-0.76</td>\n",
       "      <td>0.87</td>\n",
       "      <td>0.20</td>\n",
       "      <td>0.20</td>\n",
       "      <td>0.20</td>\n",
       "      <td>0.18</td>\n",
       "      <td>0.18</td>\n",
       "      <td>...</td>\n",
       "      <td>-0.02</td>\n",
       "      <td>-0.02</td>\n",
       "      <td>-0.02</td>\n",
       "      <td>-0.01</td>\n",
       "      <td>-0.02</td>\n",
       "      <td>-0.02</td>\n",
       "      <td>-0.01</td>\n",
       "      <td>-0.02</td>\n",
       "      <td>-0.02</td>\n",
       "      <td>-0.02</td>\n",
       "    </tr>\n",
       "    <tr>\n",
       "      <td>P201908</td>\n",
       "      <td>-0.55</td>\n",
       "      <td>0.02</td>\n",
       "      <td>0.01</td>\n",
       "      <td>-0.76</td>\n",
       "      <td>0.87</td>\n",
       "      <td>0.20</td>\n",
       "      <td>0.19</td>\n",
       "      <td>0.20</td>\n",
       "      <td>0.18</td>\n",
       "      <td>0.17</td>\n",
       "      <td>...</td>\n",
       "      <td>-0.03</td>\n",
       "      <td>-0.03</td>\n",
       "      <td>-0.02</td>\n",
       "      <td>-0.01</td>\n",
       "      <td>-0.02</td>\n",
       "      <td>-0.02</td>\n",
       "      <td>-0.02</td>\n",
       "      <td>-0.02</td>\n",
       "      <td>-0.02</td>\n",
       "      <td>-0.02</td>\n",
       "    </tr>\n",
       "    <tr>\n",
       "      <td>P201909</td>\n",
       "      <td>-0.55</td>\n",
       "      <td>0.02</td>\n",
       "      <td>0.01</td>\n",
       "      <td>-0.76</td>\n",
       "      <td>0.86</td>\n",
       "      <td>0.20</td>\n",
       "      <td>0.20</td>\n",
       "      <td>0.21</td>\n",
       "      <td>0.19</td>\n",
       "      <td>0.18</td>\n",
       "      <td>...</td>\n",
       "      <td>-0.02</td>\n",
       "      <td>-0.02</td>\n",
       "      <td>-0.02</td>\n",
       "      <td>-0.01</td>\n",
       "      <td>-0.02</td>\n",
       "      <td>-0.02</td>\n",
       "      <td>-0.02</td>\n",
       "      <td>-0.02</td>\n",
       "      <td>-0.02</td>\n",
       "      <td>-0.02</td>\n",
       "    </tr>\n",
       "    <tr>\n",
       "      <td>P201910</td>\n",
       "      <td>-0.55</td>\n",
       "      <td>0.02</td>\n",
       "      <td>0.01</td>\n",
       "      <td>-0.76</td>\n",
       "      <td>0.86</td>\n",
       "      <td>0.19</td>\n",
       "      <td>0.18</td>\n",
       "      <td>0.19</td>\n",
       "      <td>0.17</td>\n",
       "      <td>0.17</td>\n",
       "      <td>...</td>\n",
       "      <td>-0.03</td>\n",
       "      <td>-0.03</td>\n",
       "      <td>-0.02</td>\n",
       "      <td>-0.02</td>\n",
       "      <td>-0.02</td>\n",
       "      <td>-0.02</td>\n",
       "      <td>-0.02</td>\n",
       "      <td>-0.02</td>\n",
       "      <td>-0.02</td>\n",
       "      <td>-0.02</td>\n",
       "    </tr>\n",
       "    <tr>\n",
       "      <td>P201911</td>\n",
       "      <td>-0.56</td>\n",
       "      <td>0.01</td>\n",
       "      <td>0.01</td>\n",
       "      <td>-0.75</td>\n",
       "      <td>0.85</td>\n",
       "      <td>0.20</td>\n",
       "      <td>0.20</td>\n",
       "      <td>0.20</td>\n",
       "      <td>0.19</td>\n",
       "      <td>0.18</td>\n",
       "      <td>...</td>\n",
       "      <td>-0.02</td>\n",
       "      <td>-0.02</td>\n",
       "      <td>-0.02</td>\n",
       "      <td>-0.01</td>\n",
       "      <td>-0.01</td>\n",
       "      <td>-0.02</td>\n",
       "      <td>-0.01</td>\n",
       "      <td>-0.02</td>\n",
       "      <td>-0.02</td>\n",
       "      <td>-0.02</td>\n",
       "    </tr>\n",
       "    <tr>\n",
       "      <td>P201912</td>\n",
       "      <td>-0.55</td>\n",
       "      <td>0.02</td>\n",
       "      <td>-0.00</td>\n",
       "      <td>-0.75</td>\n",
       "      <td>0.86</td>\n",
       "      <td>0.21</td>\n",
       "      <td>0.20</td>\n",
       "      <td>0.21</td>\n",
       "      <td>0.19</td>\n",
       "      <td>0.18</td>\n",
       "      <td>...</td>\n",
       "      <td>-0.02</td>\n",
       "      <td>-0.02</td>\n",
       "      <td>-0.02</td>\n",
       "      <td>-0.01</td>\n",
       "      <td>-0.01</td>\n",
       "      <td>-0.02</td>\n",
       "      <td>-0.01</td>\n",
       "      <td>-0.02</td>\n",
       "      <td>-0.02</td>\n",
       "      <td>-0.02</td>\n",
       "    </tr>\n",
       "    <tr>\n",
       "      <td>U201901</td>\n",
       "      <td>-0.19</td>\n",
       "      <td>-0.14</td>\n",
       "      <td>-0.04</td>\n",
       "      <td>0.11</td>\n",
       "      <td>-0.09</td>\n",
       "      <td>0.81</td>\n",
       "      <td>0.85</td>\n",
       "      <td>0.78</td>\n",
       "      <td>0.70</td>\n",
       "      <td>0.79</td>\n",
       "      <td>...</td>\n",
       "      <td>0.95</td>\n",
       "      <td>0.91</td>\n",
       "      <td>0.95</td>\n",
       "      <td>0.94</td>\n",
       "      <td>0.91</td>\n",
       "      <td>0.91</td>\n",
       "      <td>0.90</td>\n",
       "      <td>0.91</td>\n",
       "      <td>0.91</td>\n",
       "      <td>0.91</td>\n",
       "    </tr>\n",
       "    <tr>\n",
       "      <td>U201902</td>\n",
       "      <td>-0.14</td>\n",
       "      <td>-0.11</td>\n",
       "      <td>-0.00</td>\n",
       "      <td>0.06</td>\n",
       "      <td>-0.06</td>\n",
       "      <td>0.68</td>\n",
       "      <td>0.84</td>\n",
       "      <td>0.75</td>\n",
       "      <td>0.68</td>\n",
       "      <td>0.77</td>\n",
       "      <td>...</td>\n",
       "      <td>0.96</td>\n",
       "      <td>0.91</td>\n",
       "      <td>0.96</td>\n",
       "      <td>0.98</td>\n",
       "      <td>0.97</td>\n",
       "      <td>0.96</td>\n",
       "      <td>0.97</td>\n",
       "      <td>0.97</td>\n",
       "      <td>0.97</td>\n",
       "      <td>0.98</td>\n",
       "    </tr>\n",
       "    <tr>\n",
       "      <td>U201903</td>\n",
       "      <td>-0.15</td>\n",
       "      <td>-0.12</td>\n",
       "      <td>-0.01</td>\n",
       "      <td>0.05</td>\n",
       "      <td>-0.05</td>\n",
       "      <td>0.70</td>\n",
       "      <td>0.82</td>\n",
       "      <td>0.84</td>\n",
       "      <td>0.78</td>\n",
       "      <td>0.83</td>\n",
       "      <td>...</td>\n",
       "      <td>1.00</td>\n",
       "      <td>0.99</td>\n",
       "      <td>0.99</td>\n",
       "      <td>0.94</td>\n",
       "      <td>0.91</td>\n",
       "      <td>0.90</td>\n",
       "      <td>0.91</td>\n",
       "      <td>0.91</td>\n",
       "      <td>0.91</td>\n",
       "      <td>0.91</td>\n",
       "    </tr>\n",
       "    <tr>\n",
       "      <td>U201904</td>\n",
       "      <td>-0.15</td>\n",
       "      <td>-0.13</td>\n",
       "      <td>-0.02</td>\n",
       "      <td>0.05</td>\n",
       "      <td>-0.04</td>\n",
       "      <td>0.69</td>\n",
       "      <td>0.80</td>\n",
       "      <td>0.85</td>\n",
       "      <td>0.83</td>\n",
       "      <td>0.85</td>\n",
       "      <td>...</td>\n",
       "      <td>0.99</td>\n",
       "      <td>1.00</td>\n",
       "      <td>0.98</td>\n",
       "      <td>0.89</td>\n",
       "      <td>0.85</td>\n",
       "      <td>0.85</td>\n",
       "      <td>0.85</td>\n",
       "      <td>0.85</td>\n",
       "      <td>0.85</td>\n",
       "      <td>0.86</td>\n",
       "    </tr>\n",
       "    <tr>\n",
       "      <td>U201905</td>\n",
       "      <td>-0.15</td>\n",
       "      <td>-0.12</td>\n",
       "      <td>-0.01</td>\n",
       "      <td>0.06</td>\n",
       "      <td>-0.06</td>\n",
       "      <td>0.70</td>\n",
       "      <td>0.82</td>\n",
       "      <td>0.82</td>\n",
       "      <td>0.77</td>\n",
       "      <td>0.84</td>\n",
       "      <td>...</td>\n",
       "      <td>0.99</td>\n",
       "      <td>0.98</td>\n",
       "      <td>1.00</td>\n",
       "      <td>0.96</td>\n",
       "      <td>0.93</td>\n",
       "      <td>0.92</td>\n",
       "      <td>0.93</td>\n",
       "      <td>0.93</td>\n",
       "      <td>0.92</td>\n",
       "      <td>0.93</td>\n",
       "    </tr>\n",
       "    <tr>\n",
       "      <td>U201906</td>\n",
       "      <td>-0.15</td>\n",
       "      <td>-0.11</td>\n",
       "      <td>0.00</td>\n",
       "      <td>0.05</td>\n",
       "      <td>-0.06</td>\n",
       "      <td>0.67</td>\n",
       "      <td>0.82</td>\n",
       "      <td>0.75</td>\n",
       "      <td>0.68</td>\n",
       "      <td>0.80</td>\n",
       "      <td>...</td>\n",
       "      <td>0.94</td>\n",
       "      <td>0.89</td>\n",
       "      <td>0.96</td>\n",
       "      <td>1.00</td>\n",
       "      <td>0.99</td>\n",
       "      <td>0.99</td>\n",
       "      <td>0.99</td>\n",
       "      <td>0.98</td>\n",
       "      <td>0.97</td>\n",
       "      <td>0.97</td>\n",
       "    </tr>\n",
       "    <tr>\n",
       "      <td>U201907</td>\n",
       "      <td>-0.14</td>\n",
       "      <td>-0.09</td>\n",
       "      <td>0.01</td>\n",
       "      <td>0.04</td>\n",
       "      <td>-0.05</td>\n",
       "      <td>0.65</td>\n",
       "      <td>0.82</td>\n",
       "      <td>0.72</td>\n",
       "      <td>0.65</td>\n",
       "      <td>0.76</td>\n",
       "      <td>...</td>\n",
       "      <td>0.91</td>\n",
       "      <td>0.85</td>\n",
       "      <td>0.93</td>\n",
       "      <td>0.99</td>\n",
       "      <td>1.00</td>\n",
       "      <td>1.00</td>\n",
       "      <td>0.99</td>\n",
       "      <td>0.98</td>\n",
       "      <td>0.97</td>\n",
       "      <td>0.96</td>\n",
       "    </tr>\n",
       "    <tr>\n",
       "      <td>U201908</td>\n",
       "      <td>-0.13</td>\n",
       "      <td>-0.09</td>\n",
       "      <td>0.01</td>\n",
       "      <td>0.04</td>\n",
       "      <td>-0.06</td>\n",
       "      <td>0.63</td>\n",
       "      <td>0.80</td>\n",
       "      <td>0.71</td>\n",
       "      <td>0.63</td>\n",
       "      <td>0.75</td>\n",
       "      <td>...</td>\n",
       "      <td>0.90</td>\n",
       "      <td>0.85</td>\n",
       "      <td>0.92</td>\n",
       "      <td>0.99</td>\n",
       "      <td>1.00</td>\n",
       "      <td>1.00</td>\n",
       "      <td>0.99</td>\n",
       "      <td>0.98</td>\n",
       "      <td>0.97</td>\n",
       "      <td>0.96</td>\n",
       "    </tr>\n",
       "    <tr>\n",
       "      <td>U201909</td>\n",
       "      <td>-0.12</td>\n",
       "      <td>-0.09</td>\n",
       "      <td>0.02</td>\n",
       "      <td>0.04</td>\n",
       "      <td>-0.05</td>\n",
       "      <td>0.62</td>\n",
       "      <td>0.80</td>\n",
       "      <td>0.71</td>\n",
       "      <td>0.63</td>\n",
       "      <td>0.75</td>\n",
       "      <td>...</td>\n",
       "      <td>0.91</td>\n",
       "      <td>0.85</td>\n",
       "      <td>0.93</td>\n",
       "      <td>0.99</td>\n",
       "      <td>0.99</td>\n",
       "      <td>0.99</td>\n",
       "      <td>1.00</td>\n",
       "      <td>0.98</td>\n",
       "      <td>0.98</td>\n",
       "      <td>0.96</td>\n",
       "    </tr>\n",
       "    <tr>\n",
       "      <td>U201910</td>\n",
       "      <td>-0.12</td>\n",
       "      <td>-0.09</td>\n",
       "      <td>0.02</td>\n",
       "      <td>0.05</td>\n",
       "      <td>-0.06</td>\n",
       "      <td>0.62</td>\n",
       "      <td>0.79</td>\n",
       "      <td>0.68</td>\n",
       "      <td>0.60</td>\n",
       "      <td>0.72</td>\n",
       "      <td>...</td>\n",
       "      <td>0.91</td>\n",
       "      <td>0.85</td>\n",
       "      <td>0.93</td>\n",
       "      <td>0.98</td>\n",
       "      <td>0.98</td>\n",
       "      <td>0.98</td>\n",
       "      <td>0.98</td>\n",
       "      <td>1.00</td>\n",
       "      <td>0.99</td>\n",
       "      <td>0.98</td>\n",
       "    </tr>\n",
       "    <tr>\n",
       "      <td>U201911</td>\n",
       "      <td>-0.12</td>\n",
       "      <td>-0.09</td>\n",
       "      <td>0.02</td>\n",
       "      <td>0.06</td>\n",
       "      <td>-0.06</td>\n",
       "      <td>0.62</td>\n",
       "      <td>0.78</td>\n",
       "      <td>0.67</td>\n",
       "      <td>0.58</td>\n",
       "      <td>0.71</td>\n",
       "      <td>...</td>\n",
       "      <td>0.91</td>\n",
       "      <td>0.85</td>\n",
       "      <td>0.92</td>\n",
       "      <td>0.97</td>\n",
       "      <td>0.97</td>\n",
       "      <td>0.97</td>\n",
       "      <td>0.98</td>\n",
       "      <td>0.99</td>\n",
       "      <td>1.00</td>\n",
       "      <td>0.99</td>\n",
       "    </tr>\n",
       "    <tr>\n",
       "      <td>U201912</td>\n",
       "      <td>-0.13</td>\n",
       "      <td>-0.10</td>\n",
       "      <td>0.02</td>\n",
       "      <td>0.06</td>\n",
       "      <td>-0.06</td>\n",
       "      <td>0.63</td>\n",
       "      <td>0.80</td>\n",
       "      <td>0.69</td>\n",
       "      <td>0.60</td>\n",
       "      <td>0.72</td>\n",
       "      <td>...</td>\n",
       "      <td>0.91</td>\n",
       "      <td>0.86</td>\n",
       "      <td>0.93</td>\n",
       "      <td>0.97</td>\n",
       "      <td>0.96</td>\n",
       "      <td>0.96</td>\n",
       "      <td>0.96</td>\n",
       "      <td>0.98</td>\n",
       "      <td>0.99</td>\n",
       "      <td>1.00</td>\n",
       "    </tr>\n",
       "  </tbody>\n",
       "</table>\n",
       "<p>41 rows × 41 columns</p>\n",
       "</div>"
      ],
      "text/plain": [
       "           CodPais  CodCad  CodProd    UE  Contenido  V201901  V201902  \\\n",
       "CodPais       1.00    0.04     0.04  0.33      -0.33    -0.35    -0.32   \n",
       "CodCad        0.04    1.00     0.02 -0.02       0.03    -0.16    -0.14   \n",
       "CodProd       0.04    0.02     1.00 -0.10       0.06    -0.16    -0.11   \n",
       "UE            0.33   -0.02    -0.10  1.00      -0.87    -0.04    -0.09   \n",
       "Contenido    -0.33    0.03     0.06 -0.87       1.00     0.07     0.09   \n",
       "V201901      -0.35   -0.16    -0.16 -0.04       0.07     1.00     0.90   \n",
       "V201902      -0.32   -0.14    -0.11 -0.09       0.09     0.90     1.00   \n",
       "V201903      -0.32   -0.15    -0.10 -0.14       0.12     0.82     0.92   \n",
       "V201904      -0.31   -0.15    -0.10 -0.14       0.11     0.75     0.86   \n",
       "V201905      -0.33   -0.16    -0.11 -0.11       0.07     0.78     0.89   \n",
       "V201906      -0.33   -0.16    -0.10 -0.14       0.09     0.76     0.88   \n",
       "V201907      -0.30   -0.14    -0.10 -0.13       0.08     0.76     0.90   \n",
       "V201908      -0.29   -0.14    -0.09 -0.13       0.07     0.72     0.88   \n",
       "V201909      -0.29   -0.13    -0.09 -0.13       0.08     0.73     0.88   \n",
       "V201910      -0.29   -0.13    -0.07 -0.11       0.04     0.73     0.85   \n",
       "V201911      -0.30   -0.14    -0.06 -0.08       0.08     0.77     0.87   \n",
       "V201912      -0.31   -0.15    -0.07 -0.06       0.09     0.78     0.89   \n",
       "P201901      -0.56    0.02    -0.01 -0.76       0.86     0.20     0.19   \n",
       "P201902      -0.56    0.02    -0.01 -0.75       0.86     0.21     0.19   \n",
       "P201903      -0.55    0.02    -0.01 -0.75       0.86     0.20     0.19   \n",
       "P201904      -0.55    0.02    -0.01 -0.75       0.86     0.21     0.20   \n",
       "P201905      -0.55    0.01    -0.01 -0.76       0.86     0.21     0.20   \n",
       "P201906      -0.55    0.02    -0.01 -0.76       0.86     0.21     0.20   \n",
       "P201907      -0.55    0.02     0.00 -0.76       0.87     0.20     0.20   \n",
       "P201908      -0.55    0.02     0.01 -0.76       0.87     0.20     0.19   \n",
       "P201909      -0.55    0.02     0.01 -0.76       0.86     0.20     0.20   \n",
       "P201910      -0.55    0.02     0.01 -0.76       0.86     0.19     0.18   \n",
       "P201911      -0.56    0.01     0.01 -0.75       0.85     0.20     0.20   \n",
       "P201912      -0.55    0.02    -0.00 -0.75       0.86     0.21     0.20   \n",
       "U201901      -0.19   -0.14    -0.04  0.11      -0.09     0.81     0.85   \n",
       "U201902      -0.14   -0.11    -0.00  0.06      -0.06     0.68     0.84   \n",
       "U201903      -0.15   -0.12    -0.01  0.05      -0.05     0.70     0.82   \n",
       "U201904      -0.15   -0.13    -0.02  0.05      -0.04     0.69     0.80   \n",
       "U201905      -0.15   -0.12    -0.01  0.06      -0.06     0.70     0.82   \n",
       "U201906      -0.15   -0.11     0.00  0.05      -0.06     0.67     0.82   \n",
       "U201907      -0.14   -0.09     0.01  0.04      -0.05     0.65     0.82   \n",
       "U201908      -0.13   -0.09     0.01  0.04      -0.06     0.63     0.80   \n",
       "U201909      -0.12   -0.09     0.02  0.04      -0.05     0.62     0.80   \n",
       "U201910      -0.12   -0.09     0.02  0.05      -0.06     0.62     0.79   \n",
       "U201911      -0.12   -0.09     0.02  0.06      -0.06     0.62     0.78   \n",
       "U201912      -0.13   -0.10     0.02  0.06      -0.06     0.63     0.80   \n",
       "\n",
       "           V201903  V201904  V201905  ...  U201903  U201904  U201905  U201906  \\\n",
       "CodPais      -0.32    -0.31    -0.33  ...    -0.15    -0.15    -0.15    -0.15   \n",
       "CodCad       -0.15    -0.15    -0.16  ...    -0.12    -0.13    -0.12    -0.11   \n",
       "CodProd      -0.10    -0.10    -0.11  ...    -0.01    -0.02    -0.01     0.00   \n",
       "UE           -0.14    -0.14    -0.11  ...     0.05     0.05     0.06     0.05   \n",
       "Contenido     0.12     0.11     0.07  ...    -0.05    -0.04    -0.06    -0.06   \n",
       "V201901       0.82     0.75     0.78  ...     0.70     0.69     0.70     0.67   \n",
       "V201902       0.92     0.86     0.89  ...     0.82     0.80     0.82     0.82   \n",
       "V201903       1.00     0.98     0.96  ...     0.84     0.85     0.82     0.75   \n",
       "V201904       0.98     1.00     0.96  ...     0.78     0.83     0.77     0.68   \n",
       "V201905       0.96     0.96     1.00  ...     0.83     0.85     0.84     0.80   \n",
       "V201906       0.88     0.86     0.95  ...     0.75     0.75     0.78     0.82   \n",
       "V201907       0.87     0.84     0.91  ...     0.73     0.71     0.75     0.80   \n",
       "V201908       0.85     0.82     0.89  ...     0.74     0.73     0.76     0.82   \n",
       "V201909       0.84     0.81     0.89  ...     0.75     0.73     0.77     0.82   \n",
       "V201910       0.79     0.73     0.85  ...     0.77     0.74     0.80     0.84   \n",
       "V201911       0.77     0.68     0.80  ...     0.78     0.73     0.80     0.84   \n",
       "V201912       0.78     0.70     0.80  ...     0.79     0.75     0.80     0.84   \n",
       "P201901       0.21     0.19     0.18  ...    -0.02    -0.02    -0.02    -0.01   \n",
       "P201902       0.20     0.18     0.18  ...    -0.03    -0.03    -0.02    -0.02   \n",
       "P201903       0.20     0.18     0.18  ...    -0.03    -0.03    -0.02    -0.02   \n",
       "P201904       0.20     0.18     0.17  ...    -0.03    -0.03    -0.02    -0.02   \n",
       "P201905       0.21     0.19     0.18  ...    -0.02    -0.02    -0.02    -0.01   \n",
       "P201906       0.20     0.19     0.18  ...    -0.02    -0.02    -0.02    -0.01   \n",
       "P201907       0.20     0.18     0.18  ...    -0.02    -0.02    -0.02    -0.01   \n",
       "P201908       0.20     0.18     0.17  ...    -0.03    -0.03    -0.02    -0.01   \n",
       "P201909       0.21     0.19     0.18  ...    -0.02    -0.02    -0.02    -0.01   \n",
       "P201910       0.19     0.17     0.17  ...    -0.03    -0.03    -0.02    -0.02   \n",
       "P201911       0.20     0.19     0.18  ...    -0.02    -0.02    -0.02    -0.01   \n",
       "P201912       0.21     0.19     0.18  ...    -0.02    -0.02    -0.02    -0.01   \n",
       "U201901       0.78     0.70     0.79  ...     0.95     0.91     0.95     0.94   \n",
       "U201902       0.75     0.68     0.77  ...     0.96     0.91     0.96     0.98   \n",
       "U201903       0.84     0.78     0.83  ...     1.00     0.99     0.99     0.94   \n",
       "U201904       0.85     0.83     0.85  ...     0.99     1.00     0.98     0.89   \n",
       "U201905       0.82     0.77     0.84  ...     0.99     0.98     1.00     0.96   \n",
       "U201906       0.75     0.68     0.80  ...     0.94     0.89     0.96     1.00   \n",
       "U201907       0.72     0.65     0.76  ...     0.91     0.85     0.93     0.99   \n",
       "U201908       0.71     0.63     0.75  ...     0.90     0.85     0.92     0.99   \n",
       "U201909       0.71     0.63     0.75  ...     0.91     0.85     0.93     0.99   \n",
       "U201910       0.68     0.60     0.72  ...     0.91     0.85     0.93     0.98   \n",
       "U201911       0.67     0.58     0.71  ...     0.91     0.85     0.92     0.97   \n",
       "U201912       0.69     0.60     0.72  ...     0.91     0.86     0.93     0.97   \n",
       "\n",
       "           U201907  U201908  U201909  U201910  U201911  U201912  \n",
       "CodPais      -0.14    -0.13    -0.12    -0.12    -0.12    -0.13  \n",
       "CodCad       -0.09    -0.09    -0.09    -0.09    -0.09    -0.10  \n",
       "CodProd       0.01     0.01     0.02     0.02     0.02     0.02  \n",
       "UE            0.04     0.04     0.04     0.05     0.06     0.06  \n",
       "Contenido    -0.05    -0.06    -0.05    -0.06    -0.06    -0.06  \n",
       "V201901       0.65     0.63     0.62     0.62     0.62     0.63  \n",
       "V201902       0.82     0.80     0.80     0.79     0.78     0.80  \n",
       "V201903       0.72     0.71     0.71     0.68     0.67     0.69  \n",
       "V201904       0.65     0.63     0.63     0.60     0.58     0.60  \n",
       "V201905       0.76     0.75     0.75     0.72     0.71     0.72  \n",
       "V201906       0.81     0.79     0.79     0.75     0.74     0.73  \n",
       "V201907       0.82     0.81     0.79     0.75     0.73     0.72  \n",
       "V201908       0.84     0.84     0.82     0.77     0.75     0.74  \n",
       "V201909       0.83     0.83     0.83     0.78     0.76     0.75  \n",
       "V201910       0.84     0.84     0.84     0.86     0.84     0.83  \n",
       "V201911       0.84     0.83     0.83     0.86     0.87     0.86  \n",
       "V201912       0.83     0.82     0.82     0.84     0.86     0.88  \n",
       "P201901      -0.02    -0.02    -0.01    -0.02    -0.02    -0.02  \n",
       "P201902      -0.02    -0.02    -0.02    -0.02    -0.02    -0.02  \n",
       "P201903      -0.02    -0.02    -0.02    -0.02    -0.02    -0.02  \n",
       "P201904      -0.02    -0.02    -0.02    -0.02    -0.02    -0.02  \n",
       "P201905      -0.01    -0.02    -0.01    -0.02    -0.02    -0.02  \n",
       "P201906      -0.01    -0.02    -0.01    -0.02    -0.02    -0.02  \n",
       "P201907      -0.02    -0.02    -0.01    -0.02    -0.02    -0.02  \n",
       "P201908      -0.02    -0.02    -0.02    -0.02    -0.02    -0.02  \n",
       "P201909      -0.02    -0.02    -0.02    -0.02    -0.02    -0.02  \n",
       "P201910      -0.02    -0.02    -0.02    -0.02    -0.02    -0.02  \n",
       "P201911      -0.01    -0.02    -0.01    -0.02    -0.02    -0.02  \n",
       "P201912      -0.01    -0.02    -0.01    -0.02    -0.02    -0.02  \n",
       "U201901       0.91     0.91     0.90     0.91     0.91     0.91  \n",
       "U201902       0.97     0.96     0.97     0.97     0.97     0.98  \n",
       "U201903       0.91     0.90     0.91     0.91     0.91     0.91  \n",
       "U201904       0.85     0.85     0.85     0.85     0.85     0.86  \n",
       "U201905       0.93     0.92     0.93     0.93     0.92     0.93  \n",
       "U201906       0.99     0.99     0.99     0.98     0.97     0.97  \n",
       "U201907       1.00     1.00     0.99     0.98     0.97     0.96  \n",
       "U201908       1.00     1.00     0.99     0.98     0.97     0.96  \n",
       "U201909       0.99     0.99     1.00     0.98     0.98     0.96  \n",
       "U201910       0.98     0.98     0.98     1.00     0.99     0.98  \n",
       "U201911       0.97     0.97     0.98     0.99     1.00     0.99  \n",
       "U201912       0.96     0.96     0.96     0.98     0.99     1.00  \n",
       "\n",
       "[41 rows x 41 columns]"
      ]
     },
     "execution_count": 275,
     "metadata": {},
     "output_type": "execute_result"
    }
   ],
   "source": [
    "corr_matrix = rawData.corr().round(decimals=2)\n",
    "corr_matrix"
   ]
  },
  {
   "cell_type": "markdown",
   "metadata": {},
   "source": [
    "### Graficación de la matriz de Correlación"
   ]
  },
  {
   "cell_type": "code",
   "execution_count": 276,
   "metadata": {
    "scrolled": true
   },
   "outputs": [
    {
     "data": {
      "image/png": "[encoded data removed]",
      "text/plain": [
       "<Figure size 288x288 with 1 Axes>"
      ]
     },
     "metadata": {
      "needs_background": "light"
     },
     "output_type": "display_data"
    }
   ],
   "source": [
    "plt.matshow(rawData.corr().round(decimals=2))\n",
    "plt.show()"
   ]
  },
  {
   "cell_type": "markdown",
   "metadata": {},
   "source": [
    "### Selección de las características a utilizar\n",
    "#### Se seleccionaron las variables de unidades, valor y precio para el desarrollo de los modelos dada la información que nos muestra la matriz de correlació. Permite identificar una correlación importante entre estas variables seleccionadas."
   ]
  },
  {
   "cell_type": "code",
   "execution_count": 277,
   "metadata": {},
   "outputs": [
    {
     "name": "stdout",
     "output_type": "stream",
     "text": [
      "Summary of feature sample\n"
     ]
    },
    {
     "data": {
      "text/html": [
       "<div>\n",
       "<style scoped>\n",
       "    .dataframe tbody tr th:only-of-type {\n",
       "        vertical-align: middle;\n",
       "    }\n",
       "\n",
       "    .dataframe tbody tr th {\n",
       "        vertical-align: top;\n",
       "    }\n",
       "\n",
       "    .dataframe thead th {\n",
       "        text-align: right;\n",
       "    }\n",
       "</style>\n",
       "<table border=\"1\" class=\"dataframe\">\n",
       "  <thead>\n",
       "    <tr style=\"text-align: right;\">\n",
       "      <th></th>\n",
       "      <th>V201901</th>\n",
       "      <th>V201902</th>\n",
       "      <th>V201903</th>\n",
       "      <th>V201904</th>\n",
       "      <th>V201905</th>\n",
       "      <th>V201906</th>\n",
       "      <th>V201907</th>\n",
       "      <th>V201908</th>\n",
       "      <th>V201909</th>\n",
       "      <th>V201910</th>\n",
       "      <th>...</th>\n",
       "      <th>U201902</th>\n",
       "      <th>U201903</th>\n",
       "      <th>U201904</th>\n",
       "      <th>U201905</th>\n",
       "      <th>U201906</th>\n",
       "      <th>U201907</th>\n",
       "      <th>U201908</th>\n",
       "      <th>U201909</th>\n",
       "      <th>U201910</th>\n",
       "      <th>U201911</th>\n",
       "    </tr>\n",
       "  </thead>\n",
       "  <tbody>\n",
       "    <tr>\n",
       "      <td>0</td>\n",
       "      <td>116585720.0</td>\n",
       "      <td>162345360.0</td>\n",
       "      <td>166611874.0</td>\n",
       "      <td>143077834.0</td>\n",
       "      <td>144982455.0</td>\n",
       "      <td>151564198.0</td>\n",
       "      <td>170543266.0</td>\n",
       "      <td>185115676.0</td>\n",
       "      <td>177636070.0</td>\n",
       "      <td>170163765.0</td>\n",
       "      <td>...</td>\n",
       "      <td>331320</td>\n",
       "      <td>340172</td>\n",
       "      <td>292219</td>\n",
       "      <td>296435</td>\n",
       "      <td>309352</td>\n",
       "      <td>344646</td>\n",
       "      <td>370523</td>\n",
       "      <td>362436</td>\n",
       "      <td>350898</td>\n",
       "      <td>326085</td>\n",
       "    </tr>\n",
       "    <tr>\n",
       "      <td>1</td>\n",
       "      <td>71181750.0</td>\n",
       "      <td>68087500.0</td>\n",
       "      <td>61219850.0</td>\n",
       "      <td>52914650.0</td>\n",
       "      <td>28369302.0</td>\n",
       "      <td>32965993.0</td>\n",
       "      <td>75427924.0</td>\n",
       "      <td>69052389.0</td>\n",
       "      <td>78372043.0</td>\n",
       "      <td>38109711.0</td>\n",
       "      <td>...</td>\n",
       "      <td>27235</td>\n",
       "      <td>24488</td>\n",
       "      <td>21167</td>\n",
       "      <td>11333</td>\n",
       "      <td>12682</td>\n",
       "      <td>30114</td>\n",
       "      <td>27501</td>\n",
       "      <td>30183</td>\n",
       "      <td>17129</td>\n",
       "      <td>8888</td>\n",
       "    </tr>\n",
       "    <tr>\n",
       "      <td>2</td>\n",
       "      <td>25470.0</td>\n",
       "      <td>25474935.0</td>\n",
       "      <td>63477000.0</td>\n",
       "      <td>86933130.0</td>\n",
       "      <td>60403377.0</td>\n",
       "      <td>68759178.0</td>\n",
       "      <td>77635256.0</td>\n",
       "      <td>101126564.0</td>\n",
       "      <td>84502227.0</td>\n",
       "      <td>7217216.0</td>\n",
       "      <td>...</td>\n",
       "      <td>16694</td>\n",
       "      <td>42318</td>\n",
       "      <td>57956</td>\n",
       "      <td>37233</td>\n",
       "      <td>38965</td>\n",
       "      <td>42224</td>\n",
       "      <td>52175</td>\n",
       "      <td>43608</td>\n",
       "      <td>3725</td>\n",
       "      <td>331</td>\n",
       "    </tr>\n",
       "    <tr>\n",
       "      <td>3</td>\n",
       "      <td>16254000.0</td>\n",
       "      <td>40261000.0</td>\n",
       "      <td>61551299.0</td>\n",
       "      <td>74957900.0</td>\n",
       "      <td>57141776.0</td>\n",
       "      <td>50502806.0</td>\n",
       "      <td>67675034.0</td>\n",
       "      <td>58534567.0</td>\n",
       "      <td>49667684.0</td>\n",
       "      <td>21397810.0</td>\n",
       "      <td>...</td>\n",
       "      <td>16105</td>\n",
       "      <td>24621</td>\n",
       "      <td>29992</td>\n",
       "      <td>22831</td>\n",
       "      <td>19461</td>\n",
       "      <td>27298</td>\n",
       "      <td>23428</td>\n",
       "      <td>19920</td>\n",
       "      <td>10077</td>\n",
       "      <td>3747</td>\n",
       "    </tr>\n",
       "    <tr>\n",
       "      <td>4</td>\n",
       "      <td>2550.0</td>\n",
       "      <td>6471950.0</td>\n",
       "      <td>37196075.0</td>\n",
       "      <td>60845968.0</td>\n",
       "      <td>60572160.0</td>\n",
       "      <td>59459428.0</td>\n",
       "      <td>50292454.0</td>\n",
       "      <td>52174686.0</td>\n",
       "      <td>60891798.0</td>\n",
       "      <td>78080287.0</td>\n",
       "      <td>...</td>\n",
       "      <td>2539</td>\n",
       "      <td>13767</td>\n",
       "      <td>25899</td>\n",
       "      <td>21681</td>\n",
       "      <td>20971</td>\n",
       "      <td>17451</td>\n",
       "      <td>18004</td>\n",
       "      <td>21023</td>\n",
       "      <td>26961</td>\n",
       "      <td>6111</td>\n",
       "    </tr>\n",
       "  </tbody>\n",
       "</table>\n",
       "<p>5 rows × 35 columns</p>\n",
       "</div>"
      ],
      "text/plain": [
       "       V201901      V201902      V201903      V201904      V201905  \\\n",
       "0  116585720.0  162345360.0  166611874.0  143077834.0  144982455.0   \n",
       "1   71181750.0   68087500.0   61219850.0   52914650.0   28369302.0   \n",
       "2      25470.0   25474935.0   63477000.0   86933130.0   60403377.0   \n",
       "3   16254000.0   40261000.0   61551299.0   74957900.0   57141776.0   \n",
       "4       2550.0    6471950.0   37196075.0   60845968.0   60572160.0   \n",
       "\n",
       "       V201906      V201907      V201908      V201909      V201910  ...  \\\n",
       "0  151564198.0  170543266.0  185115676.0  177636070.0  170163765.0  ...   \n",
       "1   32965993.0   75427924.0   69052389.0   78372043.0   38109711.0  ...   \n",
       "2   68759178.0   77635256.0  101126564.0   84502227.0    7217216.0  ...   \n",
       "3   50502806.0   67675034.0   58534567.0   49667684.0   21397810.0  ...   \n",
       "4   59459428.0   50292454.0   52174686.0   60891798.0   78080287.0  ...   \n",
       "\n",
       "   U201902  U201903  U201904  U201905  U201906  U201907  U201908  U201909  \\\n",
       "0   331320   340172   292219   296435   309352   344646   370523   362436   \n",
       "1    27235    24488    21167    11333    12682    30114    27501    30183   \n",
       "2    16694    42318    57956    37233    38965    42224    52175    43608   \n",
       "3    16105    24621    29992    22831    19461    27298    23428    19920   \n",
       "4     2539    13767    25899    21681    20971    17451    18004    21023   \n",
       "\n",
       "   U201910  U201911  \n",
       "0   350898   326085  \n",
       "1    17129     8888  \n",
       "2     3725      331  \n",
       "3    10077     3747  \n",
       "4    26961     6111  \n",
       "\n",
       "[5 rows x 35 columns]"
      ]
     },
     "execution_count": 277,
     "metadata": {},
     "output_type": "execute_result"
    }
   ],
   "source": [
    "#features\n",
    "features = rawData.iloc[:,8:43]\n",
    "print('Summary of feature sample')\n",
    "features.head()"
   ]
  },
  {
   "cell_type": "markdown",
   "metadata": {},
   "source": [
    "### Selección de la variable dependiente\n",
    "#### Se define la variable \"U201904\" como el mes a proyectar las ventas del producto dado que es uno de los meses de mayor venta para la categoría, al mismo tiempo, el objetivo del proyecto es poder realizar las proyecciones para el mes que se requiera dada la necesidad del negocio \n",
    "#### Una vez desarrollado el modelo, se puede realizar el cambio de la variable dependiente de manera tal, que se realice la proyección de las unidades a vender del mes seleccionado\n"
   ]
  },
  {
   "cell_type": "code",
   "execution_count": 278,
   "metadata": {},
   "outputs": [],
   "source": [
    "#dependent variable\n",
    "depVar = rawData['U201904']"
   ]
  },
  {
   "cell_type": "markdown",
   "metadata": {},
   "source": [
    "### Establecimiento del set de entrenamiento Variables X"
   ]
  },
  {
   "cell_type": "code",
   "execution_count": 279,
   "metadata": {},
   "outputs": [
    {
     "data": {
      "text/html": [
       "<div>\n",
       "<style scoped>\n",
       "    .dataframe tbody tr th:only-of-type {\n",
       "        vertical-align: middle;\n",
       "    }\n",
       "\n",
       "    .dataframe tbody tr th {\n",
       "        vertical-align: top;\n",
       "    }\n",
       "\n",
       "    .dataframe thead th {\n",
       "        text-align: right;\n",
       "    }\n",
       "</style>\n",
       "<table border=\"1\" class=\"dataframe\">\n",
       "  <thead>\n",
       "    <tr style=\"text-align: right;\">\n",
       "      <th></th>\n",
       "      <th>V201901</th>\n",
       "      <th>V201902</th>\n",
       "      <th>V201903</th>\n",
       "      <th>V201904</th>\n",
       "      <th>V201905</th>\n",
       "      <th>V201906</th>\n",
       "      <th>V201907</th>\n",
       "      <th>V201908</th>\n",
       "      <th>V201909</th>\n",
       "      <th>V201910</th>\n",
       "      <th>...</th>\n",
       "      <th>U201902</th>\n",
       "      <th>U201903</th>\n",
       "      <th>U201904</th>\n",
       "      <th>U201905</th>\n",
       "      <th>U201906</th>\n",
       "      <th>U201907</th>\n",
       "      <th>U201908</th>\n",
       "      <th>U201909</th>\n",
       "      <th>U201910</th>\n",
       "      <th>U201911</th>\n",
       "    </tr>\n",
       "  </thead>\n",
       "  <tbody>\n",
       "    <tr>\n",
       "      <td>0</td>\n",
       "      <td>116585720.0</td>\n",
       "      <td>162345360.0</td>\n",
       "      <td>166611874.0</td>\n",
       "      <td>143077834.0</td>\n",
       "      <td>144982455.0</td>\n",
       "      <td>151564198.0</td>\n",
       "      <td>170543266.0</td>\n",
       "      <td>185115676.0</td>\n",
       "      <td>177636070.0</td>\n",
       "      <td>170163765.0</td>\n",
       "      <td>...</td>\n",
       "      <td>331320</td>\n",
       "      <td>340172</td>\n",
       "      <td>292219</td>\n",
       "      <td>296435</td>\n",
       "      <td>309352</td>\n",
       "      <td>344646</td>\n",
       "      <td>370523</td>\n",
       "      <td>362436</td>\n",
       "      <td>350898</td>\n",
       "      <td>326085</td>\n",
       "    </tr>\n",
       "    <tr>\n",
       "      <td>1</td>\n",
       "      <td>71181750.0</td>\n",
       "      <td>68087500.0</td>\n",
       "      <td>61219850.0</td>\n",
       "      <td>52914650.0</td>\n",
       "      <td>28369302.0</td>\n",
       "      <td>32965993.0</td>\n",
       "      <td>75427924.0</td>\n",
       "      <td>69052389.0</td>\n",
       "      <td>78372043.0</td>\n",
       "      <td>38109711.0</td>\n",
       "      <td>...</td>\n",
       "      <td>27235</td>\n",
       "      <td>24488</td>\n",
       "      <td>21167</td>\n",
       "      <td>11333</td>\n",
       "      <td>12682</td>\n",
       "      <td>30114</td>\n",
       "      <td>27501</td>\n",
       "      <td>30183</td>\n",
       "      <td>17129</td>\n",
       "      <td>8888</td>\n",
       "    </tr>\n",
       "    <tr>\n",
       "      <td>2</td>\n",
       "      <td>25470.0</td>\n",
       "      <td>25474935.0</td>\n",
       "      <td>63477000.0</td>\n",
       "      <td>86933130.0</td>\n",
       "      <td>60403377.0</td>\n",
       "      <td>68759178.0</td>\n",
       "      <td>77635256.0</td>\n",
       "      <td>101126564.0</td>\n",
       "      <td>84502227.0</td>\n",
       "      <td>7217216.0</td>\n",
       "      <td>...</td>\n",
       "      <td>16694</td>\n",
       "      <td>42318</td>\n",
       "      <td>57956</td>\n",
       "      <td>37233</td>\n",
       "      <td>38965</td>\n",
       "      <td>42224</td>\n",
       "      <td>52175</td>\n",
       "      <td>43608</td>\n",
       "      <td>3725</td>\n",
       "      <td>331</td>\n",
       "    </tr>\n",
       "    <tr>\n",
       "      <td>3</td>\n",
       "      <td>16254000.0</td>\n",
       "      <td>40261000.0</td>\n",
       "      <td>61551299.0</td>\n",
       "      <td>74957900.0</td>\n",
       "      <td>57141776.0</td>\n",
       "      <td>50502806.0</td>\n",
       "      <td>67675034.0</td>\n",
       "      <td>58534567.0</td>\n",
       "      <td>49667684.0</td>\n",
       "      <td>21397810.0</td>\n",
       "      <td>...</td>\n",
       "      <td>16105</td>\n",
       "      <td>24621</td>\n",
       "      <td>29992</td>\n",
       "      <td>22831</td>\n",
       "      <td>19461</td>\n",
       "      <td>27298</td>\n",
       "      <td>23428</td>\n",
       "      <td>19920</td>\n",
       "      <td>10077</td>\n",
       "      <td>3747</td>\n",
       "    </tr>\n",
       "    <tr>\n",
       "      <td>4</td>\n",
       "      <td>2550.0</td>\n",
       "      <td>6471950.0</td>\n",
       "      <td>37196075.0</td>\n",
       "      <td>60845968.0</td>\n",
       "      <td>60572160.0</td>\n",
       "      <td>59459428.0</td>\n",
       "      <td>50292454.0</td>\n",
       "      <td>52174686.0</td>\n",
       "      <td>60891798.0</td>\n",
       "      <td>78080287.0</td>\n",
       "      <td>...</td>\n",
       "      <td>2539</td>\n",
       "      <td>13767</td>\n",
       "      <td>25899</td>\n",
       "      <td>21681</td>\n",
       "      <td>20971</td>\n",
       "      <td>17451</td>\n",
       "      <td>18004</td>\n",
       "      <td>21023</td>\n",
       "      <td>26961</td>\n",
       "      <td>6111</td>\n",
       "    </tr>\n",
       "  </tbody>\n",
       "</table>\n",
       "<p>5 rows × 35 columns</p>\n",
       "</div>"
      ],
      "text/plain": [
       "       V201901      V201902      V201903      V201904      V201905  \\\n",
       "0  116585720.0  162345360.0  166611874.0  143077834.0  144982455.0   \n",
       "1   71181750.0   68087500.0   61219850.0   52914650.0   28369302.0   \n",
       "2      25470.0   25474935.0   63477000.0   86933130.0   60403377.0   \n",
       "3   16254000.0   40261000.0   61551299.0   74957900.0   57141776.0   \n",
       "4       2550.0    6471950.0   37196075.0   60845968.0   60572160.0   \n",
       "\n",
       "       V201906      V201907      V201908      V201909      V201910  ...  \\\n",
       "0  151564198.0  170543266.0  185115676.0  177636070.0  170163765.0  ...   \n",
       "1   32965993.0   75427924.0   69052389.0   78372043.0   38109711.0  ...   \n",
       "2   68759178.0   77635256.0  101126564.0   84502227.0    7217216.0  ...   \n",
       "3   50502806.0   67675034.0   58534567.0   49667684.0   21397810.0  ...   \n",
       "4   59459428.0   50292454.0   52174686.0   60891798.0   78080287.0  ...   \n",
       "\n",
       "   U201902  U201903  U201904  U201905  U201906  U201907  U201908  U201909  \\\n",
       "0   331320   340172   292219   296435   309352   344646   370523   362436   \n",
       "1    27235    24488    21167    11333    12682    30114    27501    30183   \n",
       "2    16694    42318    57956    37233    38965    42224    52175    43608   \n",
       "3    16105    24621    29992    22831    19461    27298    23428    19920   \n",
       "4     2539    13767    25899    21681    20971    17451    18004    21023   \n",
       "\n",
       "   U201910  U201911  \n",
       "0   350898   326085  \n",
       "1    17129     8888  \n",
       "2     3725      331  \n",
       "3    10077     3747  \n",
       "4    26961     6111  \n",
       "\n",
       "[5 rows x 35 columns]"
      ]
     },
     "execution_count": 279,
     "metadata": {},
     "output_type": "execute_result"
    }
   ],
   "source": [
    "#Training Set (Feature Space: X Training)\n",
    "X_train = (features[:140])\n",
    "X_train.head()"
   ]
  },
  {
   "cell_type": "markdown",
   "metadata": {},
   "source": [
    "### Establecimiento del Set Training para la variable Y dependiente"
   ]
  },
  {
   "cell_type": "code",
   "execution_count": 280,
   "metadata": {},
   "outputs": [
    {
     "name": "stdout",
     "output_type": "stream",
     "text": [
      "The number of observations in the Y training set are: 140\n"
     ]
    },
    {
     "data": {
      "text/plain": [
       "0    292219\n",
       "1     21167\n",
       "2     57956\n",
       "3     29992\n",
       "4     25899\n",
       "Name: U201904, dtype: int64"
      ]
     },
     "execution_count": 280,
     "metadata": {},
     "output_type": "execute_result"
    }
   ],
   "source": [
    "#Dependent Variable Training Set (y Training)\n",
    "y_train = depVar[:140]\n",
    "y_train_count = len(y_train.index)\n",
    "print('The number of observations in the Y training set are:',str(y_train_count))\n",
    "y_train.head()"
   ]
  },
  {
   "cell_type": "markdown",
   "metadata": {},
   "source": [
    "### Establecimiento del set Test para la variable X"
   ]
  },
  {
   "cell_type": "code",
   "execution_count": 281,
   "metadata": {},
   "outputs": [
    {
     "name": "stdout",
     "output_type": "stream",
     "text": [
      "The number of observations in the feature testing set is: 325\n",
      "       V201901    V201902    V201903    V201904    V201905    V201906  \\\n",
      "140    68950.0  1740265.0  4428260.0  3785620.0  4871200.0  5129593.0   \n",
      "141  3849400.0  5099600.0  7182500.0  4544640.0  2388599.0  3396879.0   \n",
      "142  9476750.0  6504500.0  6672755.0  6098825.0  3810030.0  2804800.0   \n",
      "143  2151198.0  1387600.0  3073004.0  4305675.0  3851354.0  2304624.0   \n",
      "144  2744150.0  1282450.0  1520425.0  1974000.0  3951800.0  2214090.0   \n",
      "\n",
      "       V201907    V201908    V201909    V201910  ...  U201902  U201903  \\\n",
      "140  3278481.0  3360427.0  3318825.0  3253609.0  ...      315      736   \n",
      "141  1770099.0   750190.0   645966.0  4876489.0  ...     1159     1633   \n",
      "142  1793183.0  1233301.0   764668.0   476658.0  ...     6578     6875   \n",
      "143  3014326.0  4402528.0  3717372.0  3280531.0  ...     2501     4752   \n",
      "144  1446454.0  3384463.0  3482987.0  5384405.0  ...      724     1276   \n",
      "\n",
      "     U201904  U201905  U201906  U201907  U201908  U201909  U201910  U201911  \n",
      "140      635      816      886      550      543      585      550      574  \n",
      "141     1031      532      892      443      140      122     1101      701  \n",
      "142     6251     3911     2875     1839     1271      792      489      313  \n",
      "143     5494     4280     2024     3664     5949     4282     3084     4979  \n",
      "144     1974     3872     1351      941     2235     2463     4173     3114  \n",
      "\n",
      "[5 rows x 35 columns]\n"
     ]
    }
   ],
   "source": [
    "#Testing Set (X Testing)\n",
    "X_test = features[-325:]\n",
    "X_test_count = len(X_test.index)\n",
    "print('The number of observations in the feature testing set is:',str(X_test_count))\n",
    "print(X_test.head())"
   ]
  },
  {
   "cell_type": "markdown",
   "metadata": {},
   "source": [
    "### Establecimiento del Ground truth"
   ]
  },
  {
   "cell_type": "code",
   "execution_count": 282,
   "metadata": {},
   "outputs": [
    {
     "name": "stdout",
     "output_type": "stream",
     "text": [
      "The number of observations in the Y training set are: 325\n"
     ]
    },
    {
     "data": {
      "text/plain": [
       "140     635\n",
       "141    1031\n",
       "142    6251\n",
       "143    5494\n",
       "144    1974\n",
       "Name: U201904, dtype: int64"
      ]
     },
     "execution_count": 282,
     "metadata": {},
     "output_type": "execute_result"
    }
   ],
   "source": [
    "#Ground Truth (y_test)\n",
    "y_test = depVar[-325:]\n",
    "y_test_count = len(y_test.index)\n",
    "print('The number of observations in the Y training set are:',str(y_test_count))\n",
    "y_test.head()"
   ]
  },
  {
   "cell_type": "markdown",
   "metadata": {},
   "source": [
    "## Cross Validation"
   ]
  },
  {
   "cell_type": "code",
   "execution_count": 283,
   "metadata": {},
   "outputs": [
    {
     "data": {
      "text/plain": [
       "((105, 35), (35, 35))"
      ]
     },
     "execution_count": 283,
     "metadata": {},
     "output_type": "execute_result"
    }
   ],
   "source": [
    "X_train, X_test, y_train, y_test = train_test_split(X_train, y_train)\n",
    "X_train.shape, X_test.shape"
   ]
  },
  {
   "cell_type": "markdown",
   "metadata": {},
   "source": [
    "## Desarrollo de los modelos\n",
    "\n",
    "### Se utilizaron tres tipos de algoritmos para el desarrollo de los modelos, los cuales por la naturaleza de la predicción, a realizar son los más robustos para los ejercicios de regresión, mismo que nos permite resolver el problema que buscamos resolver"
   ]
  },
  {
   "cell_type": "code",
   "execution_count": 284,
   "metadata": {},
   "outputs": [],
   "source": [
    "#models\n",
    "modelSVR = SVR()\n",
    "modelRF = RandomForestRegressor()\n",
    "modelLR = LinearRegression()"
   ]
  },
  {
   "cell_type": "code",
   "execution_count": 285,
   "metadata": {},
   "outputs": [
    {
     "name": "stdout",
     "output_type": "stream",
     "text": [
      "0      292219\n",
      "1       21167\n",
      "2       57956\n",
      "3       29992\n",
      "4       25899\n",
      "        ...  \n",
      "460       838\n",
      "461       516\n",
      "462       747\n",
      "463       716\n",
      "464       805\n",
      "Name: U201904, Length: 465, dtype: int64\n"
     ]
    }
   ],
   "source": [
    "#dependent variable\n",
    "print(depVar)"
   ]
  },
  {
   "cell_type": "code",
   "execution_count": 286,
   "metadata": {},
   "outputs": [
    {
     "data": {
      "text/plain": [
       "LinearRegression(copy_X=True, fit_intercept=True, n_jobs=None, normalize=False)"
      ]
     },
     "execution_count": 286,
     "metadata": {},
     "output_type": "execute_result"
    }
   ],
   "source": [
    "#Random Forest\n",
    "modelRF.fit(X_train,y_train)\n",
    "\n",
    "#Support Vector Regresion\n",
    "modelSVR.fit(X_train,y_train)\n",
    "\n",
    "#Linear Regression\n",
    "modelLR.fit(X_train,y_train)"
   ]
  },
  {
   "cell_type": "markdown",
   "metadata": {},
   "source": [
    "## Seleccionando el modelo más adecuado"
   ]
  },
  {
   "cell_type": "markdown",
   "metadata": {},
   "source": [
    "### Random Forest Regression - Ajuste del modelo y evaluación"
   ]
  },
  {
   "cell_type": "code",
   "execution_count": 287,
   "metadata": {},
   "outputs": [
    {
     "name": "stdout",
     "output_type": "stream",
     "text": [
      "[0.17047361 0.57663162 0.39840626]\n"
     ]
    },
    {
     "data": {
      "text/plain": [
       "0.8863769966339975"
      ]
     },
     "execution_count": 287,
     "metadata": {},
     "output_type": "execute_result"
    }
   ],
   "source": [
    "print(cross_val_score(modelRF, X_train, y_train))\n",
    "modelRF.score(X_train,y_train)"
   ]
  },
  {
   "cell_type": "markdown",
   "metadata": {},
   "source": [
    "### Support Vector Regression - Ajuste del modelo y evaluación"
   ]
  },
  {
   "cell_type": "code",
   "execution_count": 288,
   "metadata": {},
   "outputs": [
    {
     "name": "stdout",
     "output_type": "stream",
     "text": [
      "[-0.07769218 -0.02245448 -0.10286419]\n"
     ]
    },
    {
     "data": {
      "text/plain": [
       "-0.04269783335781674"
      ]
     },
     "execution_count": 288,
     "metadata": {},
     "output_type": "execute_result"
    }
   ],
   "source": [
    "print(cross_val_score(modelSVR, X_train, y_train)) \n",
    "modelSVR.score(X_train,y_train)"
   ]
  },
  {
   "cell_type": "markdown",
   "metadata": {},
   "source": [
    "### Linear Regression - Ajuste del modelo y evaluación"
   ]
  },
  {
   "cell_type": "code",
   "execution_count": 289,
   "metadata": {},
   "outputs": [
    {
     "name": "stdout",
     "output_type": "stream",
     "text": [
      "[1. 1. 1.]\n"
     ]
    },
    {
     "data": {
      "text/plain": [
       "1.0"
      ]
     },
     "execution_count": 289,
     "metadata": {},
     "output_type": "execute_result"
    }
   ],
   "source": [
    "print(cross_val_score(modelLR, X_train, y_train)) \n",
    "modelLR.score(X_train,y_train)"
   ]
  },
  {
   "cell_type": "markdown",
   "metadata": {},
   "source": [
    "## Predicciones\n",
    "\n",
    "### Desarrollo del modelo utilizando el Random Forest dado que es el modelo que presenta los mejores resultados"
   ]
  },
  {
   "cell_type": "code",
   "execution_count": 291,
   "metadata": {},
   "outputs": [
    {
     "name": "stdout",
     "output_type": "stream",
     "text": [
      "R Squared: 0.516\n",
      "RMSE: 18764.460\n"
     ]
    }
   ],
   "source": [
    "#Make Predictions\n",
    "predictions = modelRF.predict(X_test)\n",
    "predRsquared = r2_score(y_test,predictions)\n",
    "rmse = sqrt(mean_squared_error(y_test, predictions))\n",
    "print('R Squared: %.3f' % predRsquared)\n",
    "print('RMSE: %.3f' % rmse)"
   ]
  },
  {
   "cell_type": "markdown",
   "metadata": {},
   "source": [
    "## Graficación de los resultados"
   ]
  },
  {
   "cell_type": "code",
   "execution_count": 292,
   "metadata": {
    "scrolled": true
   },
   "outputs": [
    {
     "data": {
      "image/png": "[encoded data removed]",
      "text/plain": [
       "<Figure size 432x288 with 1 Axes>"
      ]
     },
     "metadata": {
      "needs_background": "light"
     },
     "output_type": "display_data"
    }
   ],
   "source": [
    "plt.scatter(y_test, predictions, edgecolor=['blue','green'], alpha = 0.5)\n",
    "plt.xlabel('Ground Truth')\n",
    "plt.ylabel('Predictions')\n",
    "plt.show()"
   ]
  },
  {
   "cell_type": "code",
   "execution_count": 293,
   "metadata": {},
   "outputs": [
    {
     "data": {
      "text/plain": [
       "array([  3136.8,   3091.3,  10966.7,  11951.3,  11380.4,   5321.7,\n",
       "          593.7,  11014.8,   2043. ,  25307. ,   9553.6,  52556.3,\n",
       "        21325.1,  15398.8,   9223.2,  10045.3,  73014.9,   8964.7,\n",
       "       103391.9,  19621.2,    503. ,   2766.1,  21354.9,   8621.3,\n",
       "         3851. ,    508.2,   4488.3,  51556.5,   4880.8,  18442.6,\n",
       "         6612.4,   8593.4,  14977.8,   2527.5,  12248. ])"
      ]
     },
     "execution_count": 293,
     "metadata": {},
     "output_type": "execute_result"
    }
   ],
   "source": [
    "predictions"
   ]
  },
  {
   "cell_type": "code",
   "execution_count": null,
   "metadata": {},
   "outputs": [],
   "source": []
  }
 ],
 "metadata": {
  "kernelspec": {
   "display_name": "Python 3",
   "language": "python",
   "name": "python3"
  },
  "language_info": {
   "codemirror_mode": {
    "name": "ipython",
    "version": 3
   },
   "file_extension": ".py",
   "mimetype": "text/x-python",
   "name": "python",
   "nbconvert_exporter": "python",
   "pygments_lexer": "ipython3",
   "version": "3.7.4"
  }
 },
 "nbformat": 4,
 "nbformat_minor": 2
}
